{
 "cells": [
  {
   "cell_type": "markdown",
   "id": "2bca290d",
   "metadata": {},
   "source": [
    "### Univariate Feature Selection\n",
    "Using selectKbest"
   ]
  },
  {
   "cell_type": "code",
   "execution_count": null,
   "id": "cb409c09",
   "metadata": {},
   "outputs": [],
   "source": [
    "X_kbest = df.drop(['duration_in_mins'], axis=1)\n",
    "Y_kbest = df['duration_in_mins']\n",
    "X_kbest = np.asarray(X_kbest.values)\n",
    "Y_kbest = np.asarray(Y_kbest.values)\n",
    "test = SelectKBest(score_func=f_classif, k=15) #can change k to choose how many features to be selected\n",
    "fit = test.fit(X_kbest, Y_kbest)\n",
    "set_printoptions(precision=3)\n",
    "features = fit.transform(X)"
   ]
  },
  {
   "cell_type": "markdown",
   "id": "6352c71d",
   "metadata": {},
   "source": [
    "### Plotting the scores for SelectKBest"
   ]
  },
  {
   "cell_type": "code",
   "execution_count": null,
   "id": "2fc30b72",
   "metadata": {},
   "outputs": [],
   "source": [
    "import matplotlib.pyplot as plt\n",
    "X_indices = np.arange(X_kbest.shape[-1])\n",
    "ax = plt.bar(X_indices, fit.scores_, width=.2)\n",
    "avg = np.average(fit.scores_)\n",
    "print(avg)"
   ]
  },
  {
   "cell_type": "markdown",
   "id": "37e8240b",
   "metadata": {},
   "source": [
    "### Adds the best features to a list called new_features"
   ]
  },
  {
   "cell_type": "code",
   "execution_count": null,
   "id": "eff6c993",
   "metadata": {},
   "outputs": [],
   "source": [
    "feature_names = list(df.drop(['duration_in_mins'], axis=1).columns.values)\n",
    "mask = test.get_support() #list of booleans\n",
    "new_features = [] # The list of your K best features\n",
    "\n",
    "for bool, feature in zip(mask, feature_names):\n",
    "    if bool:\n",
    "        new_features.append(feature)\n",
    "new_features"
   ]
  }
 ],
 "metadata": {
  "kernelspec": {
   "display_name": "Python 3",
   "language": "python",
   "name": "python3"
  },
  "language_info": {
   "codemirror_mode": {
    "name": "ipython",
    "version": 3
   },
   "file_extension": ".py",
   "mimetype": "text/x-python",
   "name": "python",
   "nbconvert_exporter": "python",
   "pygments_lexer": "ipython3",
   "version": "3.6.13"
  }
 },
 "nbformat": 4,
 "nbformat_minor": 5
}
