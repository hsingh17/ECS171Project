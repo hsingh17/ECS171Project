{
 "cells": [
  {
   "cell_type": "markdown",
   "id": "320fa627",
   "metadata": {},
   "source": [
    "First, import the data"
   ]
  },
  {
   "cell_type": "code",
   "execution_count": 1,
   "id": "45cbf44b",
   "metadata": {},
   "outputs": [],
   "source": [
    "import pandas as pd"
   ]
  },
  {
   "cell_type": "code",
   "execution_count": 2,
   "id": "24d5f1d3",
   "metadata": {},
   "outputs": [],
   "source": [
    "df = pd.read_csv('../datasets/US_Accidents_Dec20.csv')"
   ]
  },
  {
   "cell_type": "markdown",
   "id": "916d070b",
   "metadata": {},
   "source": [
    "let's take a look at what's inside"
   ]
  },
  {
   "cell_type": "code",
   "execution_count": 3,
   "id": "92111b1e",
   "metadata": {
    "scrolled": false
   },
   "outputs": [
    {
     "data": {
      "text/html": [
       "<div>\n",
       "<style scoped>\n",
       "    .dataframe tbody tr th:only-of-type {\n",
       "        vertical-align: middle;\n",
       "    }\n",
       "\n",
       "    .dataframe tbody tr th {\n",
       "        vertical-align: top;\n",
       "    }\n",
       "\n",
       "    .dataframe thead th {\n",
       "        text-align: right;\n",
       "    }\n",
       "</style>\n",
       "<table border=\"1\" class=\"dataframe\">\n",
       "  <thead>\n",
       "    <tr style=\"text-align: right;\">\n",
       "      <th></th>\n",
       "      <th>ID</th>\n",
       "      <th>Source</th>\n",
       "      <th>TMC</th>\n",
       "      <th>Severity</th>\n",
       "      <th>Start_Time</th>\n",
       "      <th>End_Time</th>\n",
       "      <th>Start_Lat</th>\n",
       "      <th>Start_Lng</th>\n",
       "      <th>End_Lat</th>\n",
       "      <th>End_Lng</th>\n",
       "      <th>...</th>\n",
       "      <th>Roundabout</th>\n",
       "      <th>Station</th>\n",
       "      <th>Stop</th>\n",
       "      <th>Traffic_Calming</th>\n",
       "      <th>Traffic_Signal</th>\n",
       "      <th>Turning_Loop</th>\n",
       "      <th>Sunrise_Sunset</th>\n",
       "      <th>Civil_Twilight</th>\n",
       "      <th>Nautical_Twilight</th>\n",
       "      <th>Astronomical_Twilight</th>\n",
       "    </tr>\n",
       "  </thead>\n",
       "  <tbody>\n",
       "    <tr>\n",
       "      <th>0</th>\n",
       "      <td>A-1</td>\n",
       "      <td>MapQuest</td>\n",
       "      <td>201.0</td>\n",
       "      <td>3</td>\n",
       "      <td>2016-02-08 05:46:00</td>\n",
       "      <td>2016-02-08 11:00:00</td>\n",
       "      <td>39.865147</td>\n",
       "      <td>-84.058723</td>\n",
       "      <td>NaN</td>\n",
       "      <td>NaN</td>\n",
       "      <td>...</td>\n",
       "      <td>False</td>\n",
       "      <td>False</td>\n",
       "      <td>False</td>\n",
       "      <td>False</td>\n",
       "      <td>False</td>\n",
       "      <td>False</td>\n",
       "      <td>Night</td>\n",
       "      <td>Night</td>\n",
       "      <td>Night</td>\n",
       "      <td>Night</td>\n",
       "    </tr>\n",
       "    <tr>\n",
       "      <th>1</th>\n",
       "      <td>A-2</td>\n",
       "      <td>MapQuest</td>\n",
       "      <td>201.0</td>\n",
       "      <td>2</td>\n",
       "      <td>2016-02-08 06:07:59</td>\n",
       "      <td>2016-02-08 06:37:59</td>\n",
       "      <td>39.928059</td>\n",
       "      <td>-82.831184</td>\n",
       "      <td>NaN</td>\n",
       "      <td>NaN</td>\n",
       "      <td>...</td>\n",
       "      <td>False</td>\n",
       "      <td>False</td>\n",
       "      <td>False</td>\n",
       "      <td>False</td>\n",
       "      <td>False</td>\n",
       "      <td>False</td>\n",
       "      <td>Night</td>\n",
       "      <td>Night</td>\n",
       "      <td>Night</td>\n",
       "      <td>Day</td>\n",
       "    </tr>\n",
       "    <tr>\n",
       "      <th>2</th>\n",
       "      <td>A-3</td>\n",
       "      <td>MapQuest</td>\n",
       "      <td>201.0</td>\n",
       "      <td>2</td>\n",
       "      <td>2016-02-08 06:49:27</td>\n",
       "      <td>2016-02-08 07:19:27</td>\n",
       "      <td>39.063148</td>\n",
       "      <td>-84.032608</td>\n",
       "      <td>NaN</td>\n",
       "      <td>NaN</td>\n",
       "      <td>...</td>\n",
       "      <td>False</td>\n",
       "      <td>False</td>\n",
       "      <td>False</td>\n",
       "      <td>False</td>\n",
       "      <td>True</td>\n",
       "      <td>False</td>\n",
       "      <td>Night</td>\n",
       "      <td>Night</td>\n",
       "      <td>Day</td>\n",
       "      <td>Day</td>\n",
       "    </tr>\n",
       "    <tr>\n",
       "      <th>3</th>\n",
       "      <td>A-4</td>\n",
       "      <td>MapQuest</td>\n",
       "      <td>201.0</td>\n",
       "      <td>3</td>\n",
       "      <td>2016-02-08 07:23:34</td>\n",
       "      <td>2016-02-08 07:53:34</td>\n",
       "      <td>39.747753</td>\n",
       "      <td>-84.205582</td>\n",
       "      <td>NaN</td>\n",
       "      <td>NaN</td>\n",
       "      <td>...</td>\n",
       "      <td>False</td>\n",
       "      <td>False</td>\n",
       "      <td>False</td>\n",
       "      <td>False</td>\n",
       "      <td>False</td>\n",
       "      <td>False</td>\n",
       "      <td>Night</td>\n",
       "      <td>Day</td>\n",
       "      <td>Day</td>\n",
       "      <td>Day</td>\n",
       "    </tr>\n",
       "    <tr>\n",
       "      <th>4</th>\n",
       "      <td>A-5</td>\n",
       "      <td>MapQuest</td>\n",
       "      <td>201.0</td>\n",
       "      <td>2</td>\n",
       "      <td>2016-02-08 07:39:07</td>\n",
       "      <td>2016-02-08 08:09:07</td>\n",
       "      <td>39.627781</td>\n",
       "      <td>-84.188354</td>\n",
       "      <td>NaN</td>\n",
       "      <td>NaN</td>\n",
       "      <td>...</td>\n",
       "      <td>False</td>\n",
       "      <td>False</td>\n",
       "      <td>False</td>\n",
       "      <td>False</td>\n",
       "      <td>True</td>\n",
       "      <td>False</td>\n",
       "      <td>Day</td>\n",
       "      <td>Day</td>\n",
       "      <td>Day</td>\n",
       "      <td>Day</td>\n",
       "    </tr>\n",
       "  </tbody>\n",
       "</table>\n",
       "<p>5 rows × 49 columns</p>\n",
       "</div>"
      ],
      "text/plain": [
       "    ID    Source    TMC  Severity           Start_Time             End_Time  \\\n",
       "0  A-1  MapQuest  201.0         3  2016-02-08 05:46:00  2016-02-08 11:00:00   \n",
       "1  A-2  MapQuest  201.0         2  2016-02-08 06:07:59  2016-02-08 06:37:59   \n",
       "2  A-3  MapQuest  201.0         2  2016-02-08 06:49:27  2016-02-08 07:19:27   \n",
       "3  A-4  MapQuest  201.0         3  2016-02-08 07:23:34  2016-02-08 07:53:34   \n",
       "4  A-5  MapQuest  201.0         2  2016-02-08 07:39:07  2016-02-08 08:09:07   \n",
       "\n",
       "   Start_Lat  Start_Lng  End_Lat  End_Lng  ...  Roundabout Station   Stop  \\\n",
       "0  39.865147 -84.058723      NaN      NaN  ...       False   False  False   \n",
       "1  39.928059 -82.831184      NaN      NaN  ...       False   False  False   \n",
       "2  39.063148 -84.032608      NaN      NaN  ...       False   False  False   \n",
       "3  39.747753 -84.205582      NaN      NaN  ...       False   False  False   \n",
       "4  39.627781 -84.188354      NaN      NaN  ...       False   False  False   \n",
       "\n",
       "  Traffic_Calming Traffic_Signal Turning_Loop Sunrise_Sunset Civil_Twilight  \\\n",
       "0           False          False        False          Night          Night   \n",
       "1           False          False        False          Night          Night   \n",
       "2           False           True        False          Night          Night   \n",
       "3           False          False        False          Night            Day   \n",
       "4           False           True        False            Day            Day   \n",
       "\n",
       "  Nautical_Twilight Astronomical_Twilight  \n",
       "0             Night                 Night  \n",
       "1             Night                   Day  \n",
       "2               Day                   Day  \n",
       "3               Day                   Day  \n",
       "4               Day                   Day  \n",
       "\n",
       "[5 rows x 49 columns]"
      ]
     },
     "execution_count": 3,
     "metadata": {},
     "output_type": "execute_result"
    }
   ],
   "source": [
    "df.head()"
   ]
  },
  {
   "cell_type": "markdown",
   "id": "4b297fa8",
   "metadata": {},
   "source": [
    "We only want california!"
   ]
  },
  {
   "cell_type": "code",
   "execution_count": 4,
   "id": "127ace17",
   "metadata": {},
   "outputs": [],
   "source": [
    "# isolates the instances that is california\n",
    "df = df[df[\"State\"] == \"CA\"]"
   ]
  },
  {
   "cell_type": "markdown",
   "id": "1f142c4e",
   "metadata": {},
   "source": [
    "look at percentage of data that's missing"
   ]
  },
  {
   "cell_type": "code",
   "execution_count": 5,
   "id": "541e6554",
   "metadata": {},
   "outputs": [
    {
     "name": "stdout",
     "output_type": "stream",
     "text": [
      "                                 column_name  percent_missing\n",
      "ID                                        ID         0.000000\n",
      "Crossing                            Crossing         0.000000\n",
      "Give_Way                            Give_Way         0.000000\n",
      "Junction                            Junction         0.000000\n",
      "No_Exit                              No_Exit         0.000000\n",
      "Railway                              Railway         0.000000\n",
      "Roundabout                        Roundabout         0.000000\n",
      "Station                              Station         0.000000\n",
      "Country                              Country         0.000000\n",
      "Stop                                    Stop         0.000000\n",
      "State                                  State         0.000000\n",
      "County                                County         0.000000\n",
      "Traffic_Calming              Traffic_Calming         0.000000\n",
      "Bump                                    Bump         0.000000\n",
      "Side                                    Side         0.000000\n",
      "Traffic_Signal                Traffic_Signal         0.000000\n",
      "Distance(mi)                    Distance(mi)         0.000000\n",
      "Turning_Loop                    Turning_Loop         0.000000\n",
      "Start_Lng                          Start_Lng         0.000000\n",
      "Start_Lat                          Start_Lat         0.000000\n",
      "End_Time                            End_Time         0.000000\n",
      "Start_Time                        Start_Time         0.000000\n",
      "Severity                            Severity         0.000000\n",
      "Source                                Source         0.000000\n",
      "Street                                Street         0.000000\n",
      "Amenity                              Amenity         0.000000\n",
      "Description                      Description         0.000103\n",
      "Sunrise_Sunset                Sunrise_Sunset         0.000823\n",
      "Civil_Twilight                Civil_Twilight         0.000823\n",
      "Astronomical_Twilight  Astronomical_Twilight         0.000823\n",
      "Nautical_Twilight          Nautical_Twilight         0.000823\n",
      "City                                    City         0.000823\n",
      "Timezone                            Timezone         0.037426\n",
      "Zipcode                              Zipcode         0.037426\n",
      "Airport_Code                    Airport_Code         0.044418\n",
      "Weather_Timestamp          Weather_Timestamp         1.796964\n",
      "Pressure(in)                    Pressure(in)         2.056170\n",
      "Weather_Condition          Weather_Condition         2.237337\n",
      "Visibility(mi)                Visibility(mi)         2.263247\n",
      "Wind_Direction                Wind_Direction         2.366066\n",
      "Temperature(F)                Temperature(F)         2.690870\n",
      "Humidity(%)                      Humidity(%)         2.845201\n",
      "Wind_Speed(mph)              Wind_Speed(mph)        14.358642\n",
      "TMC                                      TMC        46.148460\n",
      "Wind_Chill(F)                  Wind_Chill(F)        49.824745\n",
      "Precipitation(in)          Precipitation(in)        51.837012\n",
      "End_Lat                              End_Lat        53.851540\n",
      "End_Lng                              End_Lng        53.851540\n",
      "Number                                Number        76.492852\n"
     ]
    }
   ],
   "source": [
    "percent_missing = df.isnull().sum() * 100 / len(df)\n",
    "missing_value_df = pd.DataFrame({'column_name': df.columns,\n",
    "                             \t'percent_missing': percent_missing})\n",
    "missing_value_df.sort_values('percent_missing', inplace=True)\n",
    "print(missing_value_df)"
   ]
  },
  {
   "cell_type": "code",
   "execution_count": 6,
   "id": "9f0bc449",
   "metadata": {},
   "outputs": [],
   "source": [
    "# Drop columns that have a lot of the data missing\n",
    "df.drop(['End_Lat', 'End_Lng', 'Number', 'Precipitation(in)', 'Wind_Chill(F)', 'TMC'], axis = 1, inplace=True)\n",
    "\n",
    "# Drop columns that cannot be convert to numerical value or columns that are considered irrelevant \n",
    "df.drop(['ID', 'Source', 'Description', 'Street', 'Description', 'Street', 'Side', 'City', 'County', 'State', 'Zipcode',\n",
    "        'Country', 'Timezone', 'Airport_Code', 'Civil_Twilight', 'Nautical_Twilight', 'Astronomical_Twilight'], axis = 1, inplace=True)"
   ]
  },
  {
   "cell_type": "code",
   "execution_count": 7,
   "id": "97970dbe",
   "metadata": {
    "scrolled": true
   },
   "outputs": [
    {
     "name": "stdout",
     "output_type": "stream",
     "text": [
      "Remaining columns:  ['Severity', 'Start_Time', 'End_Time', 'Start_Lat', 'Start_Lng', 'Distance(mi)', 'Weather_Timestamp', 'Temperature(F)', 'Humidity(%)', 'Pressure(in)', 'Visibility(mi)', 'Wind_Direction', 'Wind_Speed(mph)', 'Weather_Condition', 'Amenity', 'Bump', 'Crossing', 'Give_Way', 'Junction', 'No_Exit', 'Railway', 'Roundabout', 'Station', 'Stop', 'Traffic_Calming', 'Traffic_Signal', 'Turning_Loop', 'Sunrise_Sunset']\n"
     ]
    }
   ],
   "source": [
    "# remaining columns\n",
    "print(\"Remaining columns: \", list(df))"
   ]
  },
  {
   "cell_type": "markdown",
   "id": "6ed44517",
   "metadata": {},
   "source": [
    "But wind direction is not numerical!"
   ]
  },
  {
   "cell_type": "code",
   "execution_count": 8,
   "id": "2ba7a713",
   "metadata": {},
   "outputs": [],
   "source": [
    "# mapping wind directions to numerical value\n",
    "\n",
    "df.loc[(df['Wind_Direction'] == \"North\"), \"Wind_Direction\"] = 0\n",
    "df.loc[(df['Wind_Direction'] == \"N\"), \"Wind_Direction\"] = 0\n",
    "df.loc[(df['Wind_Direction'] == \"NNE\"), \"Wind_Direction\"] = 1\n",
    "df.loc[(df['Wind_Direction'] == \"NE\"), \"Wind_Direction\"] = 2\n",
    "df.loc[(df['Wind_Direction'] == \"ENE\"), \"Wind_Direction\"] = 3\n",
    "df.loc[(df['Wind_Direction'] == \"East\"), \"Wind_Direction\"] = 4\n",
    "df.loc[(df['Wind_Direction'] == \"E\"), \"Wind_Direction\"] = 4\n",
    "df.loc[(df['Wind_Direction'] == \"ESE\"), \"Wind_Direction\"] = 5\n",
    "df.loc[(df['Wind_Direction'] == \"SE\"), \"Wind_Direction\"] = 6\n",
    "df.loc[(df['Wind_Direction'] == \"SSE\"), \"Wind_Direction\"] = 7\n",
    "df.loc[(df['Wind_Direction'] == \"South\"), \"Wind_Direction\"] = 8\n",
    "df.loc[(df['Wind_Direction'] == \"S\"), \"Wind_Direction\"] = 8\n",
    "df.loc[(df['Wind_Direction'] == \"SSW\"), \"Wind_Direction\"] = 9\n",
    "df.loc[(df['Wind_Direction'] == \"SW\"), \"Wind_Direction\"] = 10\n",
    "df.loc[(df['Wind_Direction'] == \"WSW\"), \"Wind_Direction\"] = 11\n",
    "df.loc[(df['Wind_Direction'] == \"West\"), \"Wind_Direction\"] = 12\n",
    "df.loc[(df['Wind_Direction'] == \"W\"), \"Wind_Direction\"] = 12\n",
    "df.loc[(df['Wind_Direction'] == \"WNW\"), \"Wind_Direction\"] = 13\n",
    "df.loc[(df['Wind_Direction'] == \"NW\"), \"Wind_Direction\"] = 14\n",
    "df.loc[(df['Wind_Direction'] == \"NNW\"), \"Wind_Direction\"] = 15\n",
    "df.loc[(df['Wind_Direction'] == \"CALM\"), \"Wind_Direction\"] = 16\n",
    "df.loc[(df['Wind_Direction'] == \"Calm\"), \"Wind_Direction\"] = 16\n",
    "df.loc[(df['Wind_Direction'] == \"Variable\"), \"Wind_Direction\"] = 17\n",
    "df.loc[(df['Wind_Direction'] == \"VAR\"), \"Wind_Direction\"] = 17"
   ]
  },
  {
   "cell_type": "markdown",
   "id": "e4f04730",
   "metadata": {},
   "source": [
    "Also, we have \"True\" or \"False\" value that can be turned to a bool"
   ]
  },
  {
   "cell_type": "code",
   "execution_count": 9,
   "id": "accaa4b6",
   "metadata": {},
   "outputs": [],
   "source": [
    "# replace all boolean values by 0 and 1\n",
    "df.replace(False, 0,inplace=True)\n",
    "df.replace(True, 1, inplace=True)"
   ]
  },
  {
   "cell_type": "code",
   "execution_count": 10,
   "id": "c6c58ffc",
   "metadata": {},
   "outputs": [],
   "source": [
    "# replace Day by 1 and Night by 0\n",
    "df['Sunrise_Sunset'].replace('Day', 1, inplace=True)\n",
    "df['Sunrise_Sunset'].replace('Night', 0, inplace=True)"
   ]
  },
  {
   "cell_type": "code",
   "execution_count": 11,
   "id": "33052496",
   "metadata": {},
   "outputs": [],
   "source": [
    "# convert time \n",
    "df['Start_Time'] = pd.to_datetime(df['Start_Time'], format='%Y-%m-%d %H:%M:%S')\n",
    "df['End_Time'] = pd.to_datetime(df['End_Time'], format='%Y-%m-%d %H:%M:%S')\n",
    "df['Weather_Timestamp'] = pd.to_datetime(df['Weather_Timestamp'], format='%Y-%m-%d %H:%M:%S')"
   ]
  },
  {
   "cell_type": "code",
   "execution_count": 12,
   "id": "f96ad424",
   "metadata": {},
   "outputs": [],
   "source": [
    "# add duration in mins\n",
    "df['duration_in_mins'] = (df['End_Time'] - df['Start_Time']).dt.total_seconds()/60"
   ]
  },
  {
   "cell_type": "code",
   "execution_count": 13,
   "id": "5ca66c5d",
   "metadata": {},
   "outputs": [],
   "source": [
    "# add weekday, starts on Monday\n",
    "df['weekday'] = df['Start_Time'].dt.weekday"
   ]
  },
  {
   "cell_type": "code",
   "execution_count": 14,
   "id": "e2741d5e",
   "metadata": {},
   "outputs": [],
   "source": [
    "# you can add as many cols relating to date as you like\n",
    "# https://pandas.pydata.org/docs/reference/api/pandas.Series.dt.day_of_week.html"
   ]
  },
  {
   "cell_type": "code",
   "execution_count": 15,
   "id": "189e6554",
   "metadata": {},
   "outputs": [],
   "source": [
    "# task 2: split up weather\n",
    "\n",
    "# turning into binary classification\n",
    "# making 69 more columns lmao\n",
    "\n",
    "# and then maybe taking in some list from task 3 to drop some columns"
   ]
  },
  {
   "cell_type": "code",
   "execution_count": 16,
   "id": "bc666aa3",
   "metadata": {},
   "outputs": [
    {
     "name": "stdout",
     "output_type": "stream",
     "text": [
      "['Clear', 'Partly Cloudy', 'Haze', 'Mostly Cloudy', 'Overcast', 'Scattered Clouds', 'Light Rain', 'Mist', 'Smoke', 'Fog', 'Rain', 'Heavy Rain', 'Light Snow', 'Fair', 'Cloudy', 'Fair / Windy', 'Mostly Cloudy / Windy', 'Partly Cloudy / Windy']\n"
     ]
    }
   ],
   "source": [
    "# minimum number of entries to keep each weather condition\n",
    "min_weather_entries = 500\n",
    "\n",
    "# generate a list of possible weather conditions\n",
    "w_conditions = df['Weather_Condition'].unique()\n",
    "\n",
    "weather_conditions = []\n",
    "for w_cond in w_conditions:\n",
    "    if (len(df[df['Weather_Condition'] == w_cond]) >= min_weather_entries):\n",
    "        weather_conditions.append(w_cond)\n",
    "\n",
    "print(weather_conditions)"
   ]
  },
  {
   "cell_type": "code",
   "execution_count": 17,
   "id": "c0070b0b",
   "metadata": {
    "scrolled": true
   },
   "outputs": [
    {
     "name": "stdout",
     "output_type": "stream",
     "text": [
      "Clear: 253061\n",
      "Partly Cloudy: 80181\n",
      "Haze: 31679\n",
      "Mostly Cloudy: 86875\n",
      "Overcast: 58469\n",
      "Scattered Clouds: 29357\n",
      "Light Rain: 31020\n",
      "Mist: 556\n",
      "Smoke: 5633\n",
      "Fog: 10469\n",
      "Rain: 10176\n",
      "Heavy Rain: 3524\n",
      "Light Snow: 643\n",
      "Fair: 282753\n",
      "Cloudy: 58189\n",
      "Fair / Windy: 3199\n",
      "Mostly Cloudy / Windy: 503\n",
      "Partly Cloudy / Windy: 673\n"
     ]
    }
   ],
   "source": [
    "# create binary classifications\n",
    "for w_cond in weather_conditions:\n",
    "    df[w_cond] = df['Weather_Condition'] == w_cond\n",
    "    df[w_cond] = df[w_cond].astype(float)\n",
    "    print(f\"{w_cond}: {len(df[df[w_cond] == 1.0])}\")"
   ]
  },
  {
   "cell_type": "code",
   "execution_count": 18,
   "id": "caec3599",
   "metadata": {},
   "outputs": [],
   "source": [
    "# task 3: weather stuff, do some data exploration, prove what to drop\n",
    "# peter"
   ]
  },
  {
   "cell_type": "code",
   "execution_count": 19,
   "id": "e5c40675",
   "metadata": {
    "scrolled": true
   },
   "outputs": [
    {
     "name": "stdout",
     "output_type": "stream",
     "text": [
      "Clear                   -0.000265\n",
      "Partly Cloudy            0.000331\n",
      "Haze                    -0.000885\n",
      "Mostly Cloudy           -0.001791\n",
      "Overcast                -0.002726\n",
      "Scattered Clouds         0.000246\n",
      "Light Rain              -0.002896\n",
      "Mist                    -0.000500\n",
      "Smoke                    0.001235\n",
      "Fog                      0.000870\n",
      "Rain                    -0.001630\n",
      "Heavy Rain              -0.001231\n",
      "Light Snow               0.000271\n",
      "Fair                     0.005105\n",
      "Cloudy                  -0.003204\n",
      "Fair / Windy            -0.000399\n",
      "Mostly Cloudy / Windy   -0.000674\n",
      "Partly Cloudy / Windy    0.000232\n",
      "Name: duration_in_mins, dtype: float64\n"
     ]
    }
   ],
   "source": [
    "# get a list of correlations with weather conditions\n",
    "print(df.corr()['duration_in_mins'][weather_conditions])"
   ]
  },
  {
   "cell_type": "code",
   "execution_count": 20,
   "id": "62fee116",
   "metadata": {},
   "outputs": [
    {
     "data": {
      "text/plain": [
       "<AxesSubplot:>"
      ]
     },
     "execution_count": 20,
     "metadata": {},
     "output_type": "execute_result"
    },
    {
     "data": {
      "image/png": "[encoded data removed]",
      "text/plain": [
       "<Figure size 432x288 with 1 Axes>"
      ]
     },
     "metadata": {
      "needs_background": "light"
     },
     "output_type": "display_data"
    }
   ],
   "source": [
    "%matplotlib inline\n",
    "# plot \n",
    "df.corr()['duration_in_mins'][weather_conditions].plot(kind='barh')"
   ]
  },
  {
   "cell_type": "code",
   "execution_count": 21,
   "id": "096487d1",
   "metadata": {},
   "outputs": [
    {
     "name": "stdout",
     "output_type": "stream",
     "text": [
      "dropped data:  150211\n"
     ]
    }
   ],
   "source": [
    "# Drop the rows where at least one element is missing.\n",
    "data_len = len(df)\n",
    "df = df.dropna()\n",
    "print(\"dropped data: \", data_len - len(df))"
   ]
  },
  {
   "cell_type": "code",
   "execution_count": 22,
   "id": "8a244471",
   "metadata": {
    "scrolled": false
   },
   "outputs": [
    {
     "name": "stdout",
     "output_type": "stream",
     "text": [
      "Remaining columns:  ['Severity', 'Start_Time', 'End_Time', 'Start_Lat', 'Start_Lng', 'Distance(mi)', 'Weather_Timestamp', 'Temperature(F)', 'Humidity(%)', 'Pressure(in)', 'Visibility(mi)', 'Wind_Direction', 'Wind_Speed(mph)', 'Weather_Condition', 'Amenity', 'Bump', 'Crossing', 'Give_Way', 'Junction', 'No_Exit', 'Railway', 'Roundabout', 'Station', 'Stop', 'Traffic_Calming', 'Traffic_Signal', 'Turning_Loop', 'Sunrise_Sunset', 'duration_in_mins', 'weekday', 'Clear', 'Partly Cloudy', 'Haze', 'Mostly Cloudy', 'Overcast', 'Scattered Clouds', 'Light Rain', 'Mist', 'Smoke', 'Fog', 'Rain', 'Heavy Rain', 'Light Snow', 'Fair', 'Cloudy', 'Fair / Windy', 'Mostly Cloudy / Windy', 'Partly Cloudy / Windy']\n"
     ]
    }
   ],
   "source": [
    "# remaining columns\n",
    "print(\"Remaining columns: \", list(df))"
   ]
  },
  {
   "cell_type": "markdown",
   "id": "7910c15f",
   "metadata": {},
   "source": [
    "## data exploration!"
   ]
  },
  {
   "cell_type": "code",
   "execution_count": 23,
   "id": "320b467a",
   "metadata": {},
   "outputs": [],
   "source": [
    "import seaborn as sns"
   ]
  },
  {
   "cell_type": "code",
   "execution_count": 24,
   "id": "64d0fd70",
   "metadata": {},
   "outputs": [
    {
     "data": {
      "text/plain": [
       "<AxesSubplot:>"
      ]
     },
     "execution_count": 24,
     "metadata": {},
     "output_type": "execute_result"
    },
    {
     "data": {
      "image/png": "[encoded data removed]",
      "text/plain": [
       "<Figure size 432x288 with 2 Axes>"
      ]
     },
     "metadata": {
      "needs_background": "light"
     },
     "output_type": "display_data"
    }
   ],
   "source": [
    "# heat map\n",
    "sns.heatmap(df.corr(), xticklabels = True, yticklabels = True)"
   ]
  },
  {
   "cell_type": "markdown",
   "id": "6c809e85",
   "metadata": {},
   "source": [
    "We see that Start_lat and start_long have a really high correlation; we should normalize it!\n",
    "High correlation between bump and stop; we can get rid of one!"
   ]
  },
  {
   "cell_type": "markdown",
   "id": "3fbfd88e",
   "metadata": {},
   "source": [
    "Let's do heat maps for each severity!"
   ]
  },
  {
   "cell_type": "code",
   "execution_count": 25,
   "id": "9f68a211",
   "metadata": {},
   "outputs": [
    {
     "data": {
      "text/plain": [
       "<AxesSubplot:>"
      ]
     },
     "execution_count": 25,
     "metadata": {},
     "output_type": "execute_result"
    },
    {
     "data": {
      "image/png": "[encoded data removed]",
      "text/plain": [
       "<Figure size 432x288 with 2 Axes>"
      ]
     },
     "metadata": {
      "needs_background": "light"
     },
     "output_type": "display_data"
    }
   ],
   "source": [
    "# severity 1 heat map\n",
    "\n",
    "severity1 = df[df[\"Severity\"]==1]\n",
    "sns.heatmap(severity1.corr())"
   ]
  },
  {
   "cell_type": "code",
   "execution_count": 26,
   "id": "e4a30b18",
   "metadata": {},
   "outputs": [
    {
     "data": {
      "text/plain": [
       "<AxesSubplot:>"
      ]
     },
     "execution_count": 26,
     "metadata": {},
     "output_type": "execute_result"
    },
    {
     "data": {
      "image/png": "[encoded data removed]",
      "text/plain": [
       "<Figure size 432x288 with 2 Axes>"
      ]
     },
     "metadata": {
      "needs_background": "light"
     },
     "output_type": "display_data"
    }
   ],
   "source": [
    "# severity 2 heat map\n",
    "\n",
    "severity2 = df[df[\"Severity\"]==2]\n",
    "sns.heatmap(severity2.corr())"
   ]
  },
  {
   "cell_type": "code",
   "execution_count": 27,
   "id": "437b720d",
   "metadata": {},
   "outputs": [
    {
     "data": {
      "text/plain": [
       "<AxesSubplot:>"
      ]
     },
     "execution_count": 27,
     "metadata": {},
     "output_type": "execute_result"
    },
    {
     "data": {
      "image/png": "[encoded data removed]",
      "text/plain": [
       "<Figure size 432x288 with 2 Axes>"
      ]
     },
     "metadata": {
      "needs_background": "light"
     },
     "output_type": "display_data"
    }
   ],
   "source": [
    "# severity 3 heat map\n",
    "\n",
    "severity3 = df[df[\"Severity\"]==3]\n",
    "sns.heatmap(severity3.corr())"
   ]
  },
  {
   "cell_type": "code",
   "execution_count": 28,
   "id": "8fb0b9c8",
   "metadata": {},
   "outputs": [
    {
     "data": {
      "text/plain": [
       "<AxesSubplot:>"
      ]
     },
     "execution_count": 28,
     "metadata": {},
     "output_type": "execute_result"
    },
    {
     "data": {
      "image/png": "[encoded data removed]",
      "text/plain": [
       "<Figure size 432x288 with 2 Axes>"
      ]
     },
     "metadata": {
      "needs_background": "light"
     },
     "output_type": "display_data"
    }
   ],
   "source": [
    "# severity 4 heat map\n",
    "\n",
    "severity4 = df[df[\"Severity\"]==3]\n",
    "sns.heatmap(severity4.corr())"
   ]
  },
  {
   "cell_type": "code",
   "execution_count": 29,
   "id": "a5c69253",
   "metadata": {
    "scrolled": true
   },
   "outputs": [
    {
     "data": {
      "text/plain": [
       "array([[<AxesSubplot:title={'center':'Severity'}>]], dtype=object)"
      ]
     },
     "execution_count": 29,
     "metadata": {},
     "output_type": "execute_result"
    },
    {
     "data": {
      "image/png": "[encoded data removed]",
      "text/plain": [
       "<Figure size 432x288 with 1 Axes>"
      ]
     },
     "metadata": {
      "needs_background": "light"
     },
     "output_type": "display_data"
    }
   ],
   "source": [
    "# what is the distribution of severity of accidents in CA?\n",
    "\n",
    "df.hist(\"Severity\", bins=[1,2,3,4])"
   ]
  },
  {
   "cell_type": "markdown",
   "id": "012423be",
   "metadata": {},
   "source": [
    "We can see that majority of accidents are around 2"
   ]
  },
  {
   "cell_type": "code",
   "execution_count": 30,
   "id": "0fd88ee8",
   "metadata": {
    "scrolled": true
   },
   "outputs": [
    {
     "data": {
      "text/plain": [
       "2    0.759831\n",
       "3    0.224841\n",
       "4    0.008520\n",
       "1    0.006808\n",
       "Name: Severity, dtype: float64"
      ]
     },
     "execution_count": 30,
     "metadata": {},
     "output_type": "execute_result"
    }
   ],
   "source": [
    "# lets see the percentages of the different severities\n",
    "\n",
    "df[\"Severity\"].value_counts(normalize=True)\n",
    "\n",
    "# since we have so much severity 2, we want to normalize it by increasing other severity instances\n",
    "\n",
    "# using sklearn"
   ]
  },
  {
   "cell_type": "code",
   "execution_count": 31,
   "id": "6899e7c2",
   "metadata": {},
   "outputs": [],
   "source": [
    "# we can try to get duration of crash (end - start)\n",
    "\n",
    "# if we do severity is terms of a continous variable, then we want to linear"
   ]
  },
  {
   "cell_type": "markdown",
   "id": "c7eff41d",
   "metadata": {},
   "source": [
    "## Feature Selection"
   ]
  },
  {
   "cell_type": "code",
   "execution_count": 32,
   "id": "cabd579e",
   "metadata": {},
   "outputs": [],
   "source": [
    "# we want 10 to 15 features\n",
    "\n",
    "# principle component analysis and show why we're choosing these features\n",
    "# reference: like the last 3/4th of the discusion in lect 7 lol\n",
    "\n",
    "# erik, harjot, jackson"
   ]
  },
  {
   "cell_type": "markdown",
   "id": "df96f228",
   "metadata": {},
   "source": [
    "## Harjot's Feature Selection"
   ]
  },
  {
   "cell_type": "markdown",
   "id": "27e9957a",
   "metadata": {},
   "source": [
    "### Turn Start_Time into a float that represents the time that the accident started"
   ]
  },
  {
   "cell_type": "code",
   "execution_count": 33,
   "id": "a18f9036",
   "metadata": {
    "scrolled": true
   },
   "outputs": [],
   "source": [
    "def get_time(row):\n",
    "    return round(row['Start_Time'].hour + row['Start_Time'].minute / 60, 1)\n",
    "\n",
    "df['Start_Time'] = df.apply(get_time, axis=1)"
   ]
  },
  {
   "cell_type": "markdown",
   "id": "df759823",
   "metadata": {},
   "source": [
    "### Drop Weather_Condition column since it has already been encoded"
   ]
  },
  {
   "cell_type": "code",
   "execution_count": 34,
   "id": "f53da9f8",
   "metadata": {},
   "outputs": [],
   "source": [
    "df.drop(['Weather_Condition'], inplace=True, axis=1)"
   ]
  },
  {
   "cell_type": "markdown",
   "id": "a683ac2e",
   "metadata": {},
   "source": [
    "### Drop non-categorical features with low variance, since model won't learn anything if all data points are close to one another."
   ]
  },
  {
   "cell_type": "code",
   "execution_count": 35,
   "id": "262b05ff",
   "metadata": {
    "scrolled": true
   },
   "outputs": [
    {
     "data": {
      "text/plain": [
       "Severity                      0.210472\n",
       "Start_Time                   33.775291\n",
       "Start_Lat                     4.268657\n",
       "Start_Lng                     3.827593\n",
       "Distance(mi)                  0.459376\n",
       "Temperature(F)              171.677497\n",
       "Humidity(%)                 563.844649\n",
       "Pressure(in)                  0.408719\n",
       "Visibility(mi)                5.875693\n",
       "Wind_Direction               21.811381\n",
       "Wind_Speed(mph)              32.510601\n",
       "Amenity                       0.006167\n",
       "Bump                          0.000266\n",
       "Crossing                      0.033474\n",
       "Give_Way                      0.000908\n",
       "Junction                      0.115190\n",
       "No_Exit                       0.000559\n",
       "Railway                       0.010358\n",
       "Roundabout                    0.000022\n",
       "Station                       0.018939\n",
       "Stop                          0.021516\n",
       "Traffic_Calming               0.000350\n",
       "Traffic_Signal                0.073995\n",
       "Turning_Loop                  0.000000\n",
       "Sunrise_Sunset                0.227775\n",
       "duration_in_mins         989765.664431\n",
       "weekday                       3.453316\n",
       "Clear                         0.173031\n",
       "Partly Cloudy                 0.080837\n",
       "Haze                          0.029255\n",
       "Mostly Cloudy                 0.084864\n",
       "Overcast                      0.048733\n",
       "Scattered Clouds              0.027821\n",
       "Light Rain                    0.033528\n",
       "Mist                          0.000466\n",
       "Smoke                         0.006185\n",
       "Fog                           0.011262\n",
       "Rain                          0.011207\n",
       "Heavy Rain                    0.003994\n",
       "Light Snow                    0.000701\n",
       "Fair                          0.223367\n",
       "Cloudy                        0.064899\n",
       "Fair / Windy                  0.003799\n",
       "Mostly Cloudy / Windy         0.000608\n",
       "Partly Cloudy / Windy         0.000809\n",
       "dtype: float64"
      ]
     },
     "execution_count": 35,
     "metadata": {},
     "output_type": "execute_result"
    }
   ],
   "source": [
    "df.var()"
   ]
  },
  {
   "cell_type": "code",
   "execution_count": 36,
   "id": "1c3b2c5c",
   "metadata": {},
   "outputs": [],
   "source": [
    "df.drop(['Pressure(in)', 'Distance(mi)'], axis=1, inplace=True)"
   ]
  },
  {
   "cell_type": "markdown",
   "id": "8364cd52",
   "metadata": {},
   "source": [
    "### Drop features a user would not be able to determine, and redundant features"
   ]
  },
  {
   "cell_type": "code",
   "execution_count": 37,
   "id": "caf1ff4f",
   "metadata": {},
   "outputs": [
    {
     "data": {
      "text/html": [
       "<div>\n",
       "<style scoped>\n",
       "    .dataframe tbody tr th:only-of-type {\n",
       "        vertical-align: middle;\n",
       "    }\n",
       "\n",
       "    .dataframe tbody tr th {\n",
       "        vertical-align: top;\n",
       "    }\n",
       "\n",
       "    .dataframe thead th {\n",
       "        text-align: right;\n",
       "    }\n",
       "</style>\n",
       "<table border=\"1\" class=\"dataframe\">\n",
       "  <thead>\n",
       "    <tr style=\"text-align: right;\">\n",
       "      <th></th>\n",
       "      <th>Severity</th>\n",
       "      <th>Start_Time</th>\n",
       "      <th>Start_Lat</th>\n",
       "      <th>Start_Lng</th>\n",
       "      <th>Temperature(F)</th>\n",
       "      <th>Humidity(%)</th>\n",
       "      <th>Visibility(mi)</th>\n",
       "      <th>Wind_Direction</th>\n",
       "      <th>Wind_Speed(mph)</th>\n",
       "      <th>Amenity</th>\n",
       "      <th>...</th>\n",
       "      <th>Smoke</th>\n",
       "      <th>Fog</th>\n",
       "      <th>Rain</th>\n",
       "      <th>Heavy Rain</th>\n",
       "      <th>Light Snow</th>\n",
       "      <th>Fair</th>\n",
       "      <th>Cloudy</th>\n",
       "      <th>Fair / Windy</th>\n",
       "      <th>Mostly Cloudy / Windy</th>\n",
       "      <th>Partly Cloudy / Windy</th>\n",
       "    </tr>\n",
       "  </thead>\n",
       "  <tbody>\n",
       "    <tr>\n",
       "      <th>Severity</th>\n",
       "      <td>1.000000</td>\n",
       "      <td>0.014207</td>\n",
       "      <td>-0.098452</td>\n",
       "      <td>0.072708</td>\n",
       "      <td>0.081705</td>\n",
       "      <td>0.014607</td>\n",
       "      <td>0.011947</td>\n",
       "      <td>-0.039431</td>\n",
       "      <td>0.070060</td>\n",
       "      <td>-0.009470</td>\n",
       "      <td>...</td>\n",
       "      <td>-0.007722</td>\n",
       "      <td>-0.036420</td>\n",
       "      <td>0.003296</td>\n",
       "      <td>-0.001437</td>\n",
       "      <td>-0.002266</td>\n",
       "      <td>-0.186054</td>\n",
       "      <td>-0.053115</td>\n",
       "      <td>-0.017941</td>\n",
       "      <td>-0.003714</td>\n",
       "      <td>-0.007506</td>\n",
       "    </tr>\n",
       "    <tr>\n",
       "      <th>Start_Time</th>\n",
       "      <td>0.014207</td>\n",
       "      <td>1.000000</td>\n",
       "      <td>-0.022307</td>\n",
       "      <td>0.023289</td>\n",
       "      <td>0.251185</td>\n",
       "      <td>-0.215838</td>\n",
       "      <td>0.112887</td>\n",
       "      <td>0.015442</td>\n",
       "      <td>0.177673</td>\n",
       "      <td>0.003721</td>\n",
       "      <td>...</td>\n",
       "      <td>-0.000364</td>\n",
       "      <td>-0.082968</td>\n",
       "      <td>-0.021309</td>\n",
       "      <td>-0.010615</td>\n",
       "      <td>-0.000055</td>\n",
       "      <td>-0.018134</td>\n",
       "      <td>-0.075292</td>\n",
       "      <td>0.008707</td>\n",
       "      <td>0.006020</td>\n",
       "      <td>0.005803</td>\n",
       "    </tr>\n",
       "    <tr>\n",
       "      <th>Start_Lat</th>\n",
       "      <td>-0.098452</td>\n",
       "      <td>-0.022307</td>\n",
       "      <td>1.000000</td>\n",
       "      <td>-0.939867</td>\n",
       "      <td>-0.198972</td>\n",
       "      <td>0.100538</td>\n",
       "      <td>0.019150</td>\n",
       "      <td>-0.050100</td>\n",
       "      <td>0.103604</td>\n",
       "      <td>0.006159</td>\n",
       "      <td>...</td>\n",
       "      <td>0.027576</td>\n",
       "      <td>0.045687</td>\n",
       "      <td>-0.014207</td>\n",
       "      <td>-0.021187</td>\n",
       "      <td>0.043563</td>\n",
       "      <td>0.002303</td>\n",
       "      <td>0.012543</td>\n",
       "      <td>0.023987</td>\n",
       "      <td>0.014379</td>\n",
       "      <td>0.010717</td>\n",
       "    </tr>\n",
       "    <tr>\n",
       "      <th>Start_Lng</th>\n",
       "      <td>0.072708</td>\n",
       "      <td>0.023289</td>\n",
       "      <td>-0.939867</td>\n",
       "      <td>1.000000</td>\n",
       "      <td>0.202642</td>\n",
       "      <td>-0.161977</td>\n",
       "      <td>-0.026163</td>\n",
       "      <td>0.043169</td>\n",
       "      <td>-0.122148</td>\n",
       "      <td>-0.016623</td>\n",
       "      <td>...</td>\n",
       "      <td>-0.030049</td>\n",
       "      <td>-0.038496</td>\n",
       "      <td>0.013404</td>\n",
       "      <td>0.017501</td>\n",
       "      <td>-0.009092</td>\n",
       "      <td>0.028818</td>\n",
       "      <td>-0.014607</td>\n",
       "      <td>-0.022230</td>\n",
       "      <td>-0.015729</td>\n",
       "      <td>-0.011184</td>\n",
       "    </tr>\n",
       "    <tr>\n",
       "      <th>Temperature(F)</th>\n",
       "      <td>0.081705</td>\n",
       "      <td>0.251185</td>\n",
       "      <td>-0.198972</td>\n",
       "      <td>0.202642</td>\n",
       "      <td>1.000000</td>\n",
       "      <td>-0.652242</td>\n",
       "      <td>0.192528</td>\n",
       "      <td>0.072550</td>\n",
       "      <td>0.211277</td>\n",
       "      <td>-0.002789</td>\n",
       "      <td>...</td>\n",
       "      <td>0.052135</td>\n",
       "      <td>-0.134799</td>\n",
       "      <td>-0.091808</td>\n",
       "      <td>-0.053844</td>\n",
       "      <td>-0.068783</td>\n",
       "      <td>0.030390</td>\n",
       "      <td>-0.135514</td>\n",
       "      <td>0.010715</td>\n",
       "      <td>-0.002161</td>\n",
       "      <td>-0.001091</td>\n",
       "    </tr>\n",
       "    <tr>\n",
       "      <th>Humidity(%)</th>\n",
       "      <td>0.014607</td>\n",
       "      <td>-0.215838</td>\n",
       "      <td>0.100538</td>\n",
       "      <td>-0.161977</td>\n",
       "      <td>-0.652242</td>\n",
       "      <td>1.000000</td>\n",
       "      <td>-0.325403</td>\n",
       "      <td>-0.020142</td>\n",
       "      <td>-0.169061</td>\n",
       "      <td>0.009488</td>\n",
       "      <td>...</td>\n",
       "      <td>-0.041521</td>\n",
       "      <td>0.165360</td>\n",
       "      <td>0.135410</td>\n",
       "      <td>0.080217</td>\n",
       "      <td>0.034832</td>\n",
       "      <td>-0.212975</td>\n",
       "      <td>0.198167</td>\n",
       "      <td>-0.059239</td>\n",
       "      <td>-0.007969</td>\n",
       "      <td>-0.017351</td>\n",
       "    </tr>\n",
       "    <tr>\n",
       "      <th>Visibility(mi)</th>\n",
       "      <td>0.011947</td>\n",
       "      <td>0.112887</td>\n",
       "      <td>0.019150</td>\n",
       "      <td>-0.026163</td>\n",
       "      <td>0.192528</td>\n",
       "      <td>-0.325403</td>\n",
       "      <td>1.000000</td>\n",
       "      <td>0.029246</td>\n",
       "      <td>0.075934</td>\n",
       "      <td>0.004038</td>\n",
       "      <td>...</td>\n",
       "      <td>-0.083882</td>\n",
       "      <td>-0.363659</td>\n",
       "      <td>-0.237372</td>\n",
       "      <td>-0.179361</td>\n",
       "      <td>-0.068719</td>\n",
       "      <td>0.164937</td>\n",
       "      <td>-0.023802</td>\n",
       "      <td>0.023792</td>\n",
       "      <td>0.007653</td>\n",
       "      <td>0.014599</td>\n",
       "    </tr>\n",
       "    <tr>\n",
       "      <th>Wind_Direction</th>\n",
       "      <td>-0.039431</td>\n",
       "      <td>0.015442</td>\n",
       "      <td>-0.050100</td>\n",
       "      <td>0.043169</td>\n",
       "      <td>0.072550</td>\n",
       "      <td>-0.020142</td>\n",
       "      <td>0.029246</td>\n",
       "      <td>1.000000</td>\n",
       "      <td>-0.247681</td>\n",
       "      <td>0.006322</td>\n",
       "      <td>...</td>\n",
       "      <td>0.008969</td>\n",
       "      <td>0.021619</td>\n",
       "      <td>-0.065081</td>\n",
       "      <td>-0.031500</td>\n",
       "      <td>-0.002038</td>\n",
       "      <td>0.138785</td>\n",
       "      <td>0.009698</td>\n",
       "      <td>-0.025567</td>\n",
       "      <td>-0.007217</td>\n",
       "      <td>-0.011665</td>\n",
       "    </tr>\n",
       "    <tr>\n",
       "      <th>Wind_Speed(mph)</th>\n",
       "      <td>0.070060</td>\n",
       "      <td>0.177673</td>\n",
       "      <td>0.103604</td>\n",
       "      <td>-0.122148</td>\n",
       "      <td>0.211277</td>\n",
       "      <td>-0.169061</td>\n",
       "      <td>0.075934</td>\n",
       "      <td>-0.247681</td>\n",
       "      <td>1.000000</td>\n",
       "      <td>0.001263</td>\n",
       "      <td>...</td>\n",
       "      <td>-0.015167</td>\n",
       "      <td>-0.073605</td>\n",
       "      <td>0.035948</td>\n",
       "      <td>0.025774</td>\n",
       "      <td>0.003859</td>\n",
       "      <td>-0.181041</td>\n",
       "      <td>-0.081954</td>\n",
       "      <td>0.188324</td>\n",
       "      <td>0.073409</td>\n",
       "      <td>0.086322</td>\n",
       "    </tr>\n",
       "    <tr>\n",
       "      <th>Amenity</th>\n",
       "      <td>-0.009470</td>\n",
       "      <td>0.003721</td>\n",
       "      <td>0.006159</td>\n",
       "      <td>-0.016623</td>\n",
       "      <td>-0.002789</td>\n",
       "      <td>0.009488</td>\n",
       "      <td>0.004038</td>\n",
       "      <td>0.006322</td>\n",
       "      <td>0.001263</td>\n",
       "      <td>1.000000</td>\n",
       "      <td>...</td>\n",
       "      <td>0.000048</td>\n",
       "      <td>-0.000895</td>\n",
       "      <td>-0.001879</td>\n",
       "      <td>-0.000604</td>\n",
       "      <td>0.000830</td>\n",
       "      <td>-0.003988</td>\n",
       "      <td>0.000181</td>\n",
       "      <td>0.000136</td>\n",
       "      <td>0.000564</td>\n",
       "      <td>-0.000072</td>\n",
       "    </tr>\n",
       "    <tr>\n",
       "      <th>Bump</th>\n",
       "      <td>-0.003814</td>\n",
       "      <td>-0.000379</td>\n",
       "      <td>0.011385</td>\n",
       "      <td>-0.016036</td>\n",
       "      <td>-0.003790</td>\n",
       "      <td>0.002865</td>\n",
       "      <td>0.004387</td>\n",
       "      <td>-0.001238</td>\n",
       "      <td>0.000862</td>\n",
       "      <td>0.006302</td>\n",
       "      <td>...</td>\n",
       "      <td>-0.001292</td>\n",
       "      <td>-0.001050</td>\n",
       "      <td>-0.001748</td>\n",
       "      <td>-0.001036</td>\n",
       "      <td>-0.000432</td>\n",
       "      <td>0.004453</td>\n",
       "      <td>0.003136</td>\n",
       "      <td>0.000199</td>\n",
       "      <td>-0.000403</td>\n",
       "      <td>-0.000465</td>\n",
       "    </tr>\n",
       "    <tr>\n",
       "      <th>Crossing</th>\n",
       "      <td>-0.059985</td>\n",
       "      <td>0.000680</td>\n",
       "      <td>0.086051</td>\n",
       "      <td>-0.098400</td>\n",
       "      <td>-0.020561</td>\n",
       "      <td>0.016822</td>\n",
       "      <td>0.012110</td>\n",
       "      <td>0.001700</td>\n",
       "      <td>0.003810</td>\n",
       "      <td>0.070166</td>\n",
       "      <td>...</td>\n",
       "      <td>0.004101</td>\n",
       "      <td>0.001074</td>\n",
       "      <td>-0.009747</td>\n",
       "      <td>-0.006243</td>\n",
       "      <td>-0.002261</td>\n",
       "      <td>0.007022</td>\n",
       "      <td>0.003769</td>\n",
       "      <td>-0.000080</td>\n",
       "      <td>0.000718</td>\n",
       "      <td>-0.000489</td>\n",
       "    </tr>\n",
       "    <tr>\n",
       "      <th>Give_Way</th>\n",
       "      <td>-0.010523</td>\n",
       "      <td>-0.000792</td>\n",
       "      <td>0.021263</td>\n",
       "      <td>-0.028225</td>\n",
       "      <td>-0.005837</td>\n",
       "      <td>0.004293</td>\n",
       "      <td>0.002508</td>\n",
       "      <td>-0.001399</td>\n",
       "      <td>0.000581</td>\n",
       "      <td>0.003272</td>\n",
       "      <td>...</td>\n",
       "      <td>0.001207</td>\n",
       "      <td>-0.002096</td>\n",
       "      <td>-0.001322</td>\n",
       "      <td>-0.000636</td>\n",
       "      <td>-0.000799</td>\n",
       "      <td>0.001999</td>\n",
       "      <td>0.002992</td>\n",
       "      <td>-0.000556</td>\n",
       "      <td>-0.000744</td>\n",
       "      <td>0.000561</td>\n",
       "    </tr>\n",
       "    <tr>\n",
       "      <th>Junction</th>\n",
       "      <td>0.015725</td>\n",
       "      <td>0.002163</td>\n",
       "      <td>0.065302</td>\n",
       "      <td>-0.086403</td>\n",
       "      <td>-0.005865</td>\n",
       "      <td>0.016607</td>\n",
       "      <td>0.004679</td>\n",
       "      <td>-0.008765</td>\n",
       "      <td>0.023410</td>\n",
       "      <td>-0.029467</td>\n",
       "      <td>...</td>\n",
       "      <td>-0.005141</td>\n",
       "      <td>-0.004031</td>\n",
       "      <td>0.006218</td>\n",
       "      <td>0.000505</td>\n",
       "      <td>-0.002658</td>\n",
       "      <td>-0.022185</td>\n",
       "      <td>-0.002535</td>\n",
       "      <td>-0.000091</td>\n",
       "      <td>0.005753</td>\n",
       "      <td>-0.001696</td>\n",
       "    </tr>\n",
       "    <tr>\n",
       "      <th>No_Exit</th>\n",
       "      <td>-0.000800</td>\n",
       "      <td>0.000891</td>\n",
       "      <td>-0.008873</td>\n",
       "      <td>0.005671</td>\n",
       "      <td>0.002416</td>\n",
       "      <td>-0.001202</td>\n",
       "      <td>-0.000077</td>\n",
       "      <td>0.003755</td>\n",
       "      <td>-0.005022</td>\n",
       "      <td>0.000750</td>\n",
       "      <td>...</td>\n",
       "      <td>-0.000564</td>\n",
       "      <td>0.000368</td>\n",
       "      <td>-0.001076</td>\n",
       "      <td>-0.001501</td>\n",
       "      <td>-0.000627</td>\n",
       "      <td>0.002293</td>\n",
       "      <td>-0.000826</td>\n",
       "      <td>-0.001464</td>\n",
       "      <td>-0.000584</td>\n",
       "      <td>-0.000674</td>\n",
       "    </tr>\n",
       "    <tr>\n",
       "      <th>Railway</th>\n",
       "      <td>0.008217</td>\n",
       "      <td>-0.002058</td>\n",
       "      <td>0.006565</td>\n",
       "      <td>-0.015788</td>\n",
       "      <td>-0.004147</td>\n",
       "      <td>0.013838</td>\n",
       "      <td>0.003776</td>\n",
       "      <td>0.009206</td>\n",
       "      <td>0.001161</td>\n",
       "      <td>0.034779</td>\n",
       "      <td>...</td>\n",
       "      <td>0.001432</td>\n",
       "      <td>-0.001583</td>\n",
       "      <td>0.000838</td>\n",
       "      <td>0.000847</td>\n",
       "      <td>-0.002725</td>\n",
       "      <td>-0.003469</td>\n",
       "      <td>-0.000073</td>\n",
       "      <td>-0.001323</td>\n",
       "      <td>-0.000598</td>\n",
       "      <td>-0.000828</td>\n",
       "    </tr>\n",
       "    <tr>\n",
       "      <th>Roundabout</th>\n",
       "      <td>-0.002397</td>\n",
       "      <td>-0.000579</td>\n",
       "      <td>0.002009</td>\n",
       "      <td>-0.002553</td>\n",
       "      <td>-0.001032</td>\n",
       "      <td>0.001304</td>\n",
       "      <td>-0.000044</td>\n",
       "      <td>-0.001749</td>\n",
       "      <td>-0.000216</td>\n",
       "      <td>-0.000370</td>\n",
       "      <td>...</td>\n",
       "      <td>-0.000370</td>\n",
       "      <td>0.001947</td>\n",
       "      <td>-0.000501</td>\n",
       "      <td>-0.000297</td>\n",
       "      <td>-0.000124</td>\n",
       "      <td>-0.001684</td>\n",
       "      <td>-0.000261</td>\n",
       "      <td>-0.000289</td>\n",
       "      <td>-0.000115</td>\n",
       "      <td>-0.000133</td>\n",
       "    </tr>\n",
       "    <tr>\n",
       "      <th>Station</th>\n",
       "      <td>-0.010543</td>\n",
       "      <td>0.007411</td>\n",
       "      <td>-0.042282</td>\n",
       "      <td>0.018407</td>\n",
       "      <td>0.008533</td>\n",
       "      <td>0.012584</td>\n",
       "      <td>0.006951</td>\n",
       "      <td>0.013122</td>\n",
       "      <td>-0.005386</td>\n",
       "      <td>0.169390</td>\n",
       "      <td>...</td>\n",
       "      <td>-0.003016</td>\n",
       "      <td>-0.003823</td>\n",
       "      <td>-0.002673</td>\n",
       "      <td>-0.001075</td>\n",
       "      <td>-0.003718</td>\n",
       "      <td>-0.008976</td>\n",
       "      <td>-0.001250</td>\n",
       "      <td>-0.005672</td>\n",
       "      <td>0.000123</td>\n",
       "      <td>-0.000889</td>\n",
       "    </tr>\n",
       "    <tr>\n",
       "      <th>Stop</th>\n",
       "      <td>-0.046565</td>\n",
       "      <td>-0.008762</td>\n",
       "      <td>0.091778</td>\n",
       "      <td>-0.090821</td>\n",
       "      <td>-0.025862</td>\n",
       "      <td>0.013582</td>\n",
       "      <td>0.001219</td>\n",
       "      <td>0.000067</td>\n",
       "      <td>0.001609</td>\n",
       "      <td>0.034809</td>\n",
       "      <td>...</td>\n",
       "      <td>0.001940</td>\n",
       "      <td>0.007336</td>\n",
       "      <td>-0.006663</td>\n",
       "      <td>-0.004270</td>\n",
       "      <td>0.000096</td>\n",
       "      <td>0.013586</td>\n",
       "      <td>0.005330</td>\n",
       "      <td>0.002422</td>\n",
       "      <td>0.000673</td>\n",
       "      <td>0.000101</td>\n",
       "    </tr>\n",
       "    <tr>\n",
       "      <th>Traffic_Calming</th>\n",
       "      <td>-0.004916</td>\n",
       "      <td>-0.000505</td>\n",
       "      <td>0.012293</td>\n",
       "      <td>-0.017959</td>\n",
       "      <td>-0.004260</td>\n",
       "      <td>0.004690</td>\n",
       "      <td>0.003692</td>\n",
       "      <td>-0.001179</td>\n",
       "      <td>0.000707</td>\n",
       "      <td>0.025004</td>\n",
       "      <td>...</td>\n",
       "      <td>-0.001481</td>\n",
       "      <td>-0.000172</td>\n",
       "      <td>-0.002004</td>\n",
       "      <td>-0.001188</td>\n",
       "      <td>-0.000496</td>\n",
       "      <td>0.002475</td>\n",
       "      <td>0.003548</td>\n",
       "      <td>-0.000104</td>\n",
       "      <td>-0.000462</td>\n",
       "      <td>-0.000533</td>\n",
       "    </tr>\n",
       "    <tr>\n",
       "      <th>Traffic_Signal</th>\n",
       "      <td>-0.084630</td>\n",
       "      <td>0.007549</td>\n",
       "      <td>-0.019983</td>\n",
       "      <td>0.015386</td>\n",
       "      <td>0.015321</td>\n",
       "      <td>-0.005773</td>\n",
       "      <td>0.015428</td>\n",
       "      <td>0.008440</td>\n",
       "      <td>-0.010211</td>\n",
       "      <td>0.082505</td>\n",
       "      <td>...</td>\n",
       "      <td>0.000009</td>\n",
       "      <td>-0.005596</td>\n",
       "      <td>-0.013772</td>\n",
       "      <td>-0.008091</td>\n",
       "      <td>-0.005306</td>\n",
       "      <td>0.003739</td>\n",
       "      <td>0.000387</td>\n",
       "      <td>0.000119</td>\n",
       "      <td>-0.000587</td>\n",
       "      <td>-0.000722</td>\n",
       "    </tr>\n",
       "    <tr>\n",
       "      <th>Turning_Loop</th>\n",
       "      <td>NaN</td>\n",
       "      <td>NaN</td>\n",
       "      <td>NaN</td>\n",
       "      <td>NaN</td>\n",
       "      <td>NaN</td>\n",
       "      <td>NaN</td>\n",
       "      <td>NaN</td>\n",
       "      <td>NaN</td>\n",
       "      <td>NaN</td>\n",
       "      <td>NaN</td>\n",
       "      <td>...</td>\n",
       "      <td>NaN</td>\n",
       "      <td>NaN</td>\n",
       "      <td>NaN</td>\n",
       "      <td>NaN</td>\n",
       "      <td>NaN</td>\n",
       "      <td>NaN</td>\n",
       "      <td>NaN</td>\n",
       "      <td>NaN</td>\n",
       "      <td>NaN</td>\n",
       "      <td>NaN</td>\n",
       "    </tr>\n",
       "    <tr>\n",
       "      <th>Sunrise_Sunset</th>\n",
       "      <td>0.047316</td>\n",
       "      <td>-0.006734</td>\n",
       "      <td>-0.016032</td>\n",
       "      <td>0.007681</td>\n",
       "      <td>0.424230</td>\n",
       "      <td>-0.300584</td>\n",
       "      <td>0.040743</td>\n",
       "      <td>0.023190</td>\n",
       "      <td>0.239035</td>\n",
       "      <td>0.000413</td>\n",
       "      <td>...</td>\n",
       "      <td>-0.001458</td>\n",
       "      <td>-0.053939</td>\n",
       "      <td>-0.011474</td>\n",
       "      <td>-0.013694</td>\n",
       "      <td>-0.009480</td>\n",
       "      <td>-0.100973</td>\n",
       "      <td>-0.073864</td>\n",
       "      <td>0.020978</td>\n",
       "      <td>0.009660</td>\n",
       "      <td>0.008841</td>\n",
       "    </tr>\n",
       "    <tr>\n",
       "      <th>duration_in_mins</th>\n",
       "      <td>-0.006471</td>\n",
       "      <td>0.000874</td>\n",
       "      <td>-0.001956</td>\n",
       "      <td>0.002730</td>\n",
       "      <td>-0.000562</td>\n",
       "      <td>-0.006054</td>\n",
       "      <td>0.000973</td>\n",
       "      <td>0.002095</td>\n",
       "      <td>0.000220</td>\n",
       "      <td>-0.001157</td>\n",
       "      <td>...</td>\n",
       "      <td>0.001599</td>\n",
       "      <td>0.001104</td>\n",
       "      <td>-0.001967</td>\n",
       "      <td>-0.001361</td>\n",
       "      <td>0.000248</td>\n",
       "      <td>0.004083</td>\n",
       "      <td>-0.003727</td>\n",
       "      <td>-0.000514</td>\n",
       "      <td>-0.000726</td>\n",
       "      <td>0.000196</td>\n",
       "    </tr>\n",
       "    <tr>\n",
       "      <th>weekday</th>\n",
       "      <td>0.028286</td>\n",
       "      <td>-0.008846</td>\n",
       "      <td>0.013377</td>\n",
       "      <td>-0.010507</td>\n",
       "      <td>-0.016229</td>\n",
       "      <td>0.030280</td>\n",
       "      <td>-0.008993</td>\n",
       "      <td>0.023426</td>\n",
       "      <td>-0.018147</td>\n",
       "      <td>0.003119</td>\n",
       "      <td>...</td>\n",
       "      <td>0.005542</td>\n",
       "      <td>0.008897</td>\n",
       "      <td>-0.002284</td>\n",
       "      <td>-0.002678</td>\n",
       "      <td>0.011545</td>\n",
       "      <td>0.032307</td>\n",
       "      <td>0.037465</td>\n",
       "      <td>0.006032</td>\n",
       "      <td>0.005253</td>\n",
       "      <td>0.000812</td>\n",
       "    </tr>\n",
       "    <tr>\n",
       "      <th>Clear</th>\n",
       "      <td>0.161210</td>\n",
       "      <td>0.103762</td>\n",
       "      <td>-0.018746</td>\n",
       "      <td>0.021881</td>\n",
       "      <td>0.248487</td>\n",
       "      <td>-0.219794</td>\n",
       "      <td>0.156288</td>\n",
       "      <td>-0.068225</td>\n",
       "      <td>0.130697</td>\n",
       "      <td>0.000307</td>\n",
       "      <td>...</td>\n",
       "      <td>-0.042342</td>\n",
       "      <td>-0.057435</td>\n",
       "      <td>-0.057292</td>\n",
       "      <td>-0.033952</td>\n",
       "      <td>-0.014178</td>\n",
       "      <td>-0.381300</td>\n",
       "      <td>-0.146530</td>\n",
       "      <td>-0.033104</td>\n",
       "      <td>-0.013197</td>\n",
       "      <td>-0.015233</td>\n",
       "    </tr>\n",
       "    <tr>\n",
       "      <th>Partly Cloudy</th>\n",
       "      <td>0.017327</td>\n",
       "      <td>0.050241</td>\n",
       "      <td>0.000491</td>\n",
       "      <td>-0.019198</td>\n",
       "      <td>0.012916</td>\n",
       "      <td>-0.016398</td>\n",
       "      <td>0.081702</td>\n",
       "      <td>0.019026</td>\n",
       "      <td>0.043216</td>\n",
       "      <td>0.003667</td>\n",
       "      <td>...</td>\n",
       "      <td>-0.024690</td>\n",
       "      <td>-0.033491</td>\n",
       "      <td>-0.033407</td>\n",
       "      <td>-0.019797</td>\n",
       "      <td>-0.008267</td>\n",
       "      <td>-0.222338</td>\n",
       "      <td>-0.085442</td>\n",
       "      <td>-0.019303</td>\n",
       "      <td>-0.007695</td>\n",
       "      <td>-0.008882</td>\n",
       "    </tr>\n",
       "    <tr>\n",
       "      <th>Haze</th>\n",
       "      <td>0.009275</td>\n",
       "      <td>-0.032458</td>\n",
       "      <td>-0.052288</td>\n",
       "      <td>0.061727</td>\n",
       "      <td>0.022140</td>\n",
       "      <td>0.024489</td>\n",
       "      <td>-0.308235</td>\n",
       "      <td>0.024760</td>\n",
       "      <td>-0.056362</td>\n",
       "      <td>-0.000447</td>\n",
       "      <td>...</td>\n",
       "      <td>-0.013956</td>\n",
       "      <td>-0.018931</td>\n",
       "      <td>-0.018884</td>\n",
       "      <td>-0.011191</td>\n",
       "      <td>-0.004673</td>\n",
       "      <td>-0.125682</td>\n",
       "      <td>-0.048298</td>\n",
       "      <td>-0.010912</td>\n",
       "      <td>-0.004350</td>\n",
       "      <td>-0.005021</td>\n",
       "    </tr>\n",
       "    <tr>\n",
       "      <th>Mostly Cloudy</th>\n",
       "      <td>0.013735</td>\n",
       "      <td>0.011117</td>\n",
       "      <td>-0.002590</td>\n",
       "      <td>-0.014798</td>\n",
       "      <td>-0.063475</td>\n",
       "      <td>0.079601</td>\n",
       "      <td>0.062713</td>\n",
       "      <td>-0.010607</td>\n",
       "      <td>0.024746</td>\n",
       "      <td>0.002988</td>\n",
       "      <td>...</td>\n",
       "      <td>-0.025435</td>\n",
       "      <td>-0.034501</td>\n",
       "      <td>-0.034415</td>\n",
       "      <td>-0.020395</td>\n",
       "      <td>-0.008516</td>\n",
       "      <td>-0.229046</td>\n",
       "      <td>-0.088020</td>\n",
       "      <td>-0.019886</td>\n",
       "      <td>-0.007928</td>\n",
       "      <td>-0.009150</td>\n",
       "    </tr>\n",
       "    <tr>\n",
       "      <th>Overcast</th>\n",
       "      <td>0.082748</td>\n",
       "      <td>-0.064778</td>\n",
       "      <td>0.008395</td>\n",
       "      <td>-0.029269</td>\n",
       "      <td>-0.089513</td>\n",
       "      <td>0.196409</td>\n",
       "      <td>-0.032268</td>\n",
       "      <td>-0.073285</td>\n",
       "      <td>0.021403</td>\n",
       "      <td>0.005040</td>\n",
       "      <td>...</td>\n",
       "      <td>-0.018416</td>\n",
       "      <td>-0.024980</td>\n",
       "      <td>-0.024918</td>\n",
       "      <td>-0.014767</td>\n",
       "      <td>-0.006166</td>\n",
       "      <td>-0.165838</td>\n",
       "      <td>-0.063730</td>\n",
       "      <td>-0.014398</td>\n",
       "      <td>-0.005740</td>\n",
       "      <td>-0.006625</td>\n",
       "    </tr>\n",
       "    <tr>\n",
       "      <th>Scattered Clouds</th>\n",
       "      <td>0.062516</td>\n",
       "      <td>0.026257</td>\n",
       "      <td>-0.016347</td>\n",
       "      <td>0.000411</td>\n",
       "      <td>0.015117</td>\n",
       "      <td>0.011137</td>\n",
       "      <td>0.046081</td>\n",
       "      <td>-0.010852</td>\n",
       "      <td>0.067627</td>\n",
       "      <td>0.002492</td>\n",
       "      <td>...</td>\n",
       "      <td>-0.013589</td>\n",
       "      <td>-0.018433</td>\n",
       "      <td>-0.018387</td>\n",
       "      <td>-0.010896</td>\n",
       "      <td>-0.004550</td>\n",
       "      <td>-0.122370</td>\n",
       "      <td>-0.047026</td>\n",
       "      <td>-0.010624</td>\n",
       "      <td>-0.004235</td>\n",
       "      <td>-0.004889</td>\n",
       "    </tr>\n",
       "    <tr>\n",
       "      <th>Light Rain</th>\n",
       "      <td>0.006371</td>\n",
       "      <td>-0.030660</td>\n",
       "      <td>0.026732</td>\n",
       "      <td>-0.035528</td>\n",
       "      <td>-0.142773</td>\n",
       "      <td>0.216117</td>\n",
       "      <td>-0.211810</td>\n",
       "      <td>-0.099941</td>\n",
       "      <td>0.054082</td>\n",
       "      <td>-0.006617</td>\n",
       "      <td>...</td>\n",
       "      <td>-0.015012</td>\n",
       "      <td>-0.020363</td>\n",
       "      <td>-0.020312</td>\n",
       "      <td>-0.012037</td>\n",
       "      <td>-0.005026</td>\n",
       "      <td>-0.135185</td>\n",
       "      <td>-0.051950</td>\n",
       "      <td>-0.011737</td>\n",
       "      <td>-0.004679</td>\n",
       "      <td>-0.005401</td>\n",
       "    </tr>\n",
       "    <tr>\n",
       "      <th>Mist</th>\n",
       "      <td>-0.002584</td>\n",
       "      <td>-0.016600</td>\n",
       "      <td>0.007633</td>\n",
       "      <td>-0.010729</td>\n",
       "      <td>-0.017168</td>\n",
       "      <td>0.031742</td>\n",
       "      <td>-0.055619</td>\n",
       "      <td>0.003306</td>\n",
       "      <td>-0.011976</td>\n",
       "      <td>-0.001706</td>\n",
       "      <td>...</td>\n",
       "      <td>-0.001708</td>\n",
       "      <td>-0.002317</td>\n",
       "      <td>-0.002311</td>\n",
       "      <td>-0.001370</td>\n",
       "      <td>-0.000572</td>\n",
       "      <td>-0.015383</td>\n",
       "      <td>-0.005911</td>\n",
       "      <td>-0.001336</td>\n",
       "      <td>-0.000532</td>\n",
       "      <td>-0.000615</td>\n",
       "    </tr>\n",
       "    <tr>\n",
       "      <th>Smoke</th>\n",
       "      <td>-0.007722</td>\n",
       "      <td>-0.000364</td>\n",
       "      <td>0.027576</td>\n",
       "      <td>-0.030049</td>\n",
       "      <td>0.052135</td>\n",
       "      <td>-0.041521</td>\n",
       "      <td>-0.083882</td>\n",
       "      <td>0.008969</td>\n",
       "      <td>-0.015167</td>\n",
       "      <td>0.000048</td>\n",
       "      <td>...</td>\n",
       "      <td>1.000000</td>\n",
       "      <td>-0.008495</td>\n",
       "      <td>-0.008474</td>\n",
       "      <td>-0.005022</td>\n",
       "      <td>-0.002097</td>\n",
       "      <td>-0.056395</td>\n",
       "      <td>-0.021672</td>\n",
       "      <td>-0.004896</td>\n",
       "      <td>-0.001952</td>\n",
       "      <td>-0.002253</td>\n",
       "    </tr>\n",
       "    <tr>\n",
       "      <th>Fog</th>\n",
       "      <td>-0.036420</td>\n",
       "      <td>-0.082968</td>\n",
       "      <td>0.045687</td>\n",
       "      <td>-0.038496</td>\n",
       "      <td>-0.134799</td>\n",
       "      <td>0.165360</td>\n",
       "      <td>-0.363659</td>\n",
       "      <td>0.021619</td>\n",
       "      <td>-0.073605</td>\n",
       "      <td>-0.000895</td>\n",
       "      <td>...</td>\n",
       "      <td>-0.008495</td>\n",
       "      <td>1.000000</td>\n",
       "      <td>-0.011494</td>\n",
       "      <td>-0.006811</td>\n",
       "      <td>-0.002844</td>\n",
       "      <td>-0.076497</td>\n",
       "      <td>-0.029397</td>\n",
       "      <td>-0.006641</td>\n",
       "      <td>-0.002648</td>\n",
       "      <td>-0.003056</td>\n",
       "    </tr>\n",
       "    <tr>\n",
       "      <th>Rain</th>\n",
       "      <td>0.003296</td>\n",
       "      <td>-0.021309</td>\n",
       "      <td>-0.014207</td>\n",
       "      <td>0.013404</td>\n",
       "      <td>-0.091808</td>\n",
       "      <td>0.135410</td>\n",
       "      <td>-0.237372</td>\n",
       "      <td>-0.065081</td>\n",
       "      <td>0.035948</td>\n",
       "      <td>-0.001879</td>\n",
       "      <td>...</td>\n",
       "      <td>-0.008474</td>\n",
       "      <td>-0.011494</td>\n",
       "      <td>1.000000</td>\n",
       "      <td>-0.006795</td>\n",
       "      <td>-0.002837</td>\n",
       "      <td>-0.076307</td>\n",
       "      <td>-0.029324</td>\n",
       "      <td>-0.006625</td>\n",
       "      <td>-0.002641</td>\n",
       "      <td>-0.003048</td>\n",
       "    </tr>\n",
       "    <tr>\n",
       "      <th>Heavy Rain</th>\n",
       "      <td>-0.001437</td>\n",
       "      <td>-0.010615</td>\n",
       "      <td>-0.021187</td>\n",
       "      <td>0.017501</td>\n",
       "      <td>-0.053844</td>\n",
       "      <td>0.080217</td>\n",
       "      <td>-0.179361</td>\n",
       "      <td>-0.031500</td>\n",
       "      <td>0.025774</td>\n",
       "      <td>-0.000604</td>\n",
       "      <td>...</td>\n",
       "      <td>-0.005022</td>\n",
       "      <td>-0.006811</td>\n",
       "      <td>-0.006795</td>\n",
       "      <td>1.000000</td>\n",
       "      <td>-0.001681</td>\n",
       "      <td>-0.045220</td>\n",
       "      <td>-0.017378</td>\n",
       "      <td>-0.003926</td>\n",
       "      <td>-0.001565</td>\n",
       "      <td>-0.001807</td>\n",
       "    </tr>\n",
       "    <tr>\n",
       "      <th>Light Snow</th>\n",
       "      <td>-0.002266</td>\n",
       "      <td>-0.000055</td>\n",
       "      <td>0.043563</td>\n",
       "      <td>-0.009092</td>\n",
       "      <td>-0.068783</td>\n",
       "      <td>0.034832</td>\n",
       "      <td>-0.068719</td>\n",
       "      <td>-0.002038</td>\n",
       "      <td>0.003859</td>\n",
       "      <td>0.000830</td>\n",
       "      <td>...</td>\n",
       "      <td>-0.002097</td>\n",
       "      <td>-0.002844</td>\n",
       "      <td>-0.002837</td>\n",
       "      <td>-0.001681</td>\n",
       "      <td>1.000000</td>\n",
       "      <td>-0.018883</td>\n",
       "      <td>-0.007257</td>\n",
       "      <td>-0.001639</td>\n",
       "      <td>-0.000654</td>\n",
       "      <td>-0.000754</td>\n",
       "    </tr>\n",
       "    <tr>\n",
       "      <th>Fair</th>\n",
       "      <td>-0.186054</td>\n",
       "      <td>-0.018134</td>\n",
       "      <td>0.002303</td>\n",
       "      <td>0.028818</td>\n",
       "      <td>0.030390</td>\n",
       "      <td>-0.212975</td>\n",
       "      <td>0.164937</td>\n",
       "      <td>0.138785</td>\n",
       "      <td>-0.181041</td>\n",
       "      <td>-0.003988</td>\n",
       "      <td>...</td>\n",
       "      <td>-0.056395</td>\n",
       "      <td>-0.076497</td>\n",
       "      <td>-0.076307</td>\n",
       "      <td>-0.045220</td>\n",
       "      <td>-0.018883</td>\n",
       "      <td>1.000000</td>\n",
       "      <td>-0.195162</td>\n",
       "      <td>-0.044091</td>\n",
       "      <td>-0.017577</td>\n",
       "      <td>-0.020288</td>\n",
       "    </tr>\n",
       "    <tr>\n",
       "      <th>Cloudy</th>\n",
       "      <td>-0.053115</td>\n",
       "      <td>-0.075292</td>\n",
       "      <td>0.012543</td>\n",
       "      <td>-0.014607</td>\n",
       "      <td>-0.135514</td>\n",
       "      <td>0.198167</td>\n",
       "      <td>-0.023802</td>\n",
       "      <td>0.009698</td>\n",
       "      <td>-0.081954</td>\n",
       "      <td>0.000181</td>\n",
       "      <td>...</td>\n",
       "      <td>-0.021672</td>\n",
       "      <td>-0.029397</td>\n",
       "      <td>-0.029324</td>\n",
       "      <td>-0.017378</td>\n",
       "      <td>-0.007257</td>\n",
       "      <td>-0.195162</td>\n",
       "      <td>1.000000</td>\n",
       "      <td>-0.016944</td>\n",
       "      <td>-0.006755</td>\n",
       "      <td>-0.007797</td>\n",
       "    </tr>\n",
       "    <tr>\n",
       "      <th>Fair / Windy</th>\n",
       "      <td>-0.017941</td>\n",
       "      <td>0.008707</td>\n",
       "      <td>0.023987</td>\n",
       "      <td>-0.022230</td>\n",
       "      <td>0.010715</td>\n",
       "      <td>-0.059239</td>\n",
       "      <td>0.023792</td>\n",
       "      <td>-0.025567</td>\n",
       "      <td>0.188324</td>\n",
       "      <td>0.000136</td>\n",
       "      <td>...</td>\n",
       "      <td>-0.004896</td>\n",
       "      <td>-0.006641</td>\n",
       "      <td>-0.006625</td>\n",
       "      <td>-0.003926</td>\n",
       "      <td>-0.001639</td>\n",
       "      <td>-0.044091</td>\n",
       "      <td>-0.016944</td>\n",
       "      <td>1.000000</td>\n",
       "      <td>-0.001526</td>\n",
       "      <td>-0.001761</td>\n",
       "    </tr>\n",
       "    <tr>\n",
       "      <th>Mostly Cloudy / Windy</th>\n",
       "      <td>-0.003714</td>\n",
       "      <td>0.006020</td>\n",
       "      <td>0.014379</td>\n",
       "      <td>-0.015729</td>\n",
       "      <td>-0.002161</td>\n",
       "      <td>-0.007969</td>\n",
       "      <td>0.007653</td>\n",
       "      <td>-0.007217</td>\n",
       "      <td>0.073409</td>\n",
       "      <td>0.000564</td>\n",
       "      <td>...</td>\n",
       "      <td>-0.001952</td>\n",
       "      <td>-0.002648</td>\n",
       "      <td>-0.002641</td>\n",
       "      <td>-0.001565</td>\n",
       "      <td>-0.000654</td>\n",
       "      <td>-0.017577</td>\n",
       "      <td>-0.006755</td>\n",
       "      <td>-0.001526</td>\n",
       "      <td>1.000000</td>\n",
       "      <td>-0.000702</td>\n",
       "    </tr>\n",
       "    <tr>\n",
       "      <th>Partly Cloudy / Windy</th>\n",
       "      <td>-0.007506</td>\n",
       "      <td>0.005803</td>\n",
       "      <td>0.010717</td>\n",
       "      <td>-0.011184</td>\n",
       "      <td>-0.001091</td>\n",
       "      <td>-0.017351</td>\n",
       "      <td>0.014599</td>\n",
       "      <td>-0.011665</td>\n",
       "      <td>0.086322</td>\n",
       "      <td>-0.000072</td>\n",
       "      <td>...</td>\n",
       "      <td>-0.002253</td>\n",
       "      <td>-0.003056</td>\n",
       "      <td>-0.003048</td>\n",
       "      <td>-0.001807</td>\n",
       "      <td>-0.000754</td>\n",
       "      <td>-0.020288</td>\n",
       "      <td>-0.007797</td>\n",
       "      <td>-0.001761</td>\n",
       "      <td>-0.000702</td>\n",
       "      <td>1.000000</td>\n",
       "    </tr>\n",
       "  </tbody>\n",
       "</table>\n",
       "<p>43 rows × 43 columns</p>\n",
       "</div>"
      ],
      "text/plain": [
       "                       Severity  Start_Time  Start_Lat  Start_Lng  \\\n",
       "Severity               1.000000    0.014207  -0.098452   0.072708   \n",
       "Start_Time             0.014207    1.000000  -0.022307   0.023289   \n",
       "Start_Lat             -0.098452   -0.022307   1.000000  -0.939867   \n",
       "Start_Lng              0.072708    0.023289  -0.939867   1.000000   \n",
       "Temperature(F)         0.081705    0.251185  -0.198972   0.202642   \n",
       "Humidity(%)            0.014607   -0.215838   0.100538  -0.161977   \n",
       "Visibility(mi)         0.011947    0.112887   0.019150  -0.026163   \n",
       "Wind_Direction        -0.039431    0.015442  -0.050100   0.043169   \n",
       "Wind_Speed(mph)        0.070060    0.177673   0.103604  -0.122148   \n",
       "Amenity               -0.009470    0.003721   0.006159  -0.016623   \n",
       "Bump                  -0.003814   -0.000379   0.011385  -0.016036   \n",
       "Crossing              -0.059985    0.000680   0.086051  -0.098400   \n",
       "Give_Way              -0.010523   -0.000792   0.021263  -0.028225   \n",
       "Junction               0.015725    0.002163   0.065302  -0.086403   \n",
       "No_Exit               -0.000800    0.000891  -0.008873   0.005671   \n",
       "Railway                0.008217   -0.002058   0.006565  -0.015788   \n",
       "Roundabout            -0.002397   -0.000579   0.002009  -0.002553   \n",
       "Station               -0.010543    0.007411  -0.042282   0.018407   \n",
       "Stop                  -0.046565   -0.008762   0.091778  -0.090821   \n",
       "Traffic_Calming       -0.004916   -0.000505   0.012293  -0.017959   \n",
       "Traffic_Signal        -0.084630    0.007549  -0.019983   0.015386   \n",
       "Turning_Loop                NaN         NaN        NaN        NaN   \n",
       "Sunrise_Sunset         0.047316   -0.006734  -0.016032   0.007681   \n",
       "duration_in_mins      -0.006471    0.000874  -0.001956   0.002730   \n",
       "weekday                0.028286   -0.008846   0.013377  -0.010507   \n",
       "Clear                  0.161210    0.103762  -0.018746   0.021881   \n",
       "Partly Cloudy          0.017327    0.050241   0.000491  -0.019198   \n",
       "Haze                   0.009275   -0.032458  -0.052288   0.061727   \n",
       "Mostly Cloudy          0.013735    0.011117  -0.002590  -0.014798   \n",
       "Overcast               0.082748   -0.064778   0.008395  -0.029269   \n",
       "Scattered Clouds       0.062516    0.026257  -0.016347   0.000411   \n",
       "Light Rain             0.006371   -0.030660   0.026732  -0.035528   \n",
       "Mist                  -0.002584   -0.016600   0.007633  -0.010729   \n",
       "Smoke                 -0.007722   -0.000364   0.027576  -0.030049   \n",
       "Fog                   -0.036420   -0.082968   0.045687  -0.038496   \n",
       "Rain                   0.003296   -0.021309  -0.014207   0.013404   \n",
       "Heavy Rain            -0.001437   -0.010615  -0.021187   0.017501   \n",
       "Light Snow            -0.002266   -0.000055   0.043563  -0.009092   \n",
       "Fair                  -0.186054   -0.018134   0.002303   0.028818   \n",
       "Cloudy                -0.053115   -0.075292   0.012543  -0.014607   \n",
       "Fair / Windy          -0.017941    0.008707   0.023987  -0.022230   \n",
       "Mostly Cloudy / Windy -0.003714    0.006020   0.014379  -0.015729   \n",
       "Partly Cloudy / Windy -0.007506    0.005803   0.010717  -0.011184   \n",
       "\n",
       "                       Temperature(F)  Humidity(%)  Visibility(mi)  \\\n",
       "Severity                     0.081705     0.014607        0.011947   \n",
       "Start_Time                   0.251185    -0.215838        0.112887   \n",
       "Start_Lat                   -0.198972     0.100538        0.019150   \n",
       "Start_Lng                    0.202642    -0.161977       -0.026163   \n",
       "Temperature(F)               1.000000    -0.652242        0.192528   \n",
       "Humidity(%)                 -0.652242     1.000000       -0.325403   \n",
       "Visibility(mi)               0.192528    -0.325403        1.000000   \n",
       "Wind_Direction               0.072550    -0.020142        0.029246   \n",
       "Wind_Speed(mph)              0.211277    -0.169061        0.075934   \n",
       "Amenity                     -0.002789     0.009488        0.004038   \n",
       "Bump                        -0.003790     0.002865        0.004387   \n",
       "Crossing                    -0.020561     0.016822        0.012110   \n",
       "Give_Way                    -0.005837     0.004293        0.002508   \n",
       "Junction                    -0.005865     0.016607        0.004679   \n",
       "No_Exit                      0.002416    -0.001202       -0.000077   \n",
       "Railway                     -0.004147     0.013838        0.003776   \n",
       "Roundabout                  -0.001032     0.001304       -0.000044   \n",
       "Station                      0.008533     0.012584        0.006951   \n",
       "Stop                        -0.025862     0.013582        0.001219   \n",
       "Traffic_Calming             -0.004260     0.004690        0.003692   \n",
       "Traffic_Signal               0.015321    -0.005773        0.015428   \n",
       "Turning_Loop                      NaN          NaN             NaN   \n",
       "Sunrise_Sunset               0.424230    -0.300584        0.040743   \n",
       "duration_in_mins            -0.000562    -0.006054        0.000973   \n",
       "weekday                     -0.016229     0.030280       -0.008993   \n",
       "Clear                        0.248487    -0.219794        0.156288   \n",
       "Partly Cloudy                0.012916    -0.016398        0.081702   \n",
       "Haze                         0.022140     0.024489       -0.308235   \n",
       "Mostly Cloudy               -0.063475     0.079601        0.062713   \n",
       "Overcast                    -0.089513     0.196409       -0.032268   \n",
       "Scattered Clouds             0.015117     0.011137        0.046081   \n",
       "Light Rain                  -0.142773     0.216117       -0.211810   \n",
       "Mist                        -0.017168     0.031742       -0.055619   \n",
       "Smoke                        0.052135    -0.041521       -0.083882   \n",
       "Fog                         -0.134799     0.165360       -0.363659   \n",
       "Rain                        -0.091808     0.135410       -0.237372   \n",
       "Heavy Rain                  -0.053844     0.080217       -0.179361   \n",
       "Light Snow                  -0.068783     0.034832       -0.068719   \n",
       "Fair                         0.030390    -0.212975        0.164937   \n",
       "Cloudy                      -0.135514     0.198167       -0.023802   \n",
       "Fair / Windy                 0.010715    -0.059239        0.023792   \n",
       "Mostly Cloudy / Windy       -0.002161    -0.007969        0.007653   \n",
       "Partly Cloudy / Windy       -0.001091    -0.017351        0.014599   \n",
       "\n",
       "                       Wind_Direction  Wind_Speed(mph)   Amenity  ...  \\\n",
       "Severity                    -0.039431         0.070060 -0.009470  ...   \n",
       "Start_Time                   0.015442         0.177673  0.003721  ...   \n",
       "Start_Lat                   -0.050100         0.103604  0.006159  ...   \n",
       "Start_Lng                    0.043169        -0.122148 -0.016623  ...   \n",
       "Temperature(F)               0.072550         0.211277 -0.002789  ...   \n",
       "Humidity(%)                 -0.020142        -0.169061  0.009488  ...   \n",
       "Visibility(mi)               0.029246         0.075934  0.004038  ...   \n",
       "Wind_Direction               1.000000        -0.247681  0.006322  ...   \n",
       "Wind_Speed(mph)             -0.247681         1.000000  0.001263  ...   \n",
       "Amenity                      0.006322         0.001263  1.000000  ...   \n",
       "Bump                        -0.001238         0.000862  0.006302  ...   \n",
       "Crossing                     0.001700         0.003810  0.070166  ...   \n",
       "Give_Way                    -0.001399         0.000581  0.003272  ...   \n",
       "Junction                    -0.008765         0.023410 -0.029467  ...   \n",
       "No_Exit                      0.003755        -0.005022  0.000750  ...   \n",
       "Railway                      0.009206         0.001161  0.034779  ...   \n",
       "Roundabout                  -0.001749        -0.000216 -0.000370  ...   \n",
       "Station                      0.013122        -0.005386  0.169390  ...   \n",
       "Stop                         0.000067         0.001609  0.034809  ...   \n",
       "Traffic_Calming             -0.001179         0.000707  0.025004  ...   \n",
       "Traffic_Signal               0.008440        -0.010211  0.082505  ...   \n",
       "Turning_Loop                      NaN              NaN       NaN  ...   \n",
       "Sunrise_Sunset               0.023190         0.239035  0.000413  ...   \n",
       "duration_in_mins             0.002095         0.000220 -0.001157  ...   \n",
       "weekday                      0.023426        -0.018147  0.003119  ...   \n",
       "Clear                       -0.068225         0.130697  0.000307  ...   \n",
       "Partly Cloudy                0.019026         0.043216  0.003667  ...   \n",
       "Haze                         0.024760        -0.056362 -0.000447  ...   \n",
       "Mostly Cloudy               -0.010607         0.024746  0.002988  ...   \n",
       "Overcast                    -0.073285         0.021403  0.005040  ...   \n",
       "Scattered Clouds            -0.010852         0.067627  0.002492  ...   \n",
       "Light Rain                  -0.099941         0.054082 -0.006617  ...   \n",
       "Mist                         0.003306        -0.011976 -0.001706  ...   \n",
       "Smoke                        0.008969        -0.015167  0.000048  ...   \n",
       "Fog                          0.021619        -0.073605 -0.000895  ...   \n",
       "Rain                        -0.065081         0.035948 -0.001879  ...   \n",
       "Heavy Rain                  -0.031500         0.025774 -0.000604  ...   \n",
       "Light Snow                  -0.002038         0.003859  0.000830  ...   \n",
       "Fair                         0.138785        -0.181041 -0.003988  ...   \n",
       "Cloudy                       0.009698        -0.081954  0.000181  ...   \n",
       "Fair / Windy                -0.025567         0.188324  0.000136  ...   \n",
       "Mostly Cloudy / Windy       -0.007217         0.073409  0.000564  ...   \n",
       "Partly Cloudy / Windy       -0.011665         0.086322 -0.000072  ...   \n",
       "\n",
       "                          Smoke       Fog      Rain  Heavy Rain  Light Snow  \\\n",
       "Severity              -0.007722 -0.036420  0.003296   -0.001437   -0.002266   \n",
       "Start_Time            -0.000364 -0.082968 -0.021309   -0.010615   -0.000055   \n",
       "Start_Lat              0.027576  0.045687 -0.014207   -0.021187    0.043563   \n",
       "Start_Lng             -0.030049 -0.038496  0.013404    0.017501   -0.009092   \n",
       "Temperature(F)         0.052135 -0.134799 -0.091808   -0.053844   -0.068783   \n",
       "Humidity(%)           -0.041521  0.165360  0.135410    0.080217    0.034832   \n",
       "Visibility(mi)        -0.083882 -0.363659 -0.237372   -0.179361   -0.068719   \n",
       "Wind_Direction         0.008969  0.021619 -0.065081   -0.031500   -0.002038   \n",
       "Wind_Speed(mph)       -0.015167 -0.073605  0.035948    0.025774    0.003859   \n",
       "Amenity                0.000048 -0.000895 -0.001879   -0.000604    0.000830   \n",
       "Bump                  -0.001292 -0.001050 -0.001748   -0.001036   -0.000432   \n",
       "Crossing               0.004101  0.001074 -0.009747   -0.006243   -0.002261   \n",
       "Give_Way               0.001207 -0.002096 -0.001322   -0.000636   -0.000799   \n",
       "Junction              -0.005141 -0.004031  0.006218    0.000505   -0.002658   \n",
       "No_Exit               -0.000564  0.000368 -0.001076   -0.001501   -0.000627   \n",
       "Railway                0.001432 -0.001583  0.000838    0.000847   -0.002725   \n",
       "Roundabout            -0.000370  0.001947 -0.000501   -0.000297   -0.000124   \n",
       "Station               -0.003016 -0.003823 -0.002673   -0.001075   -0.003718   \n",
       "Stop                   0.001940  0.007336 -0.006663   -0.004270    0.000096   \n",
       "Traffic_Calming       -0.001481 -0.000172 -0.002004   -0.001188   -0.000496   \n",
       "Traffic_Signal         0.000009 -0.005596 -0.013772   -0.008091   -0.005306   \n",
       "Turning_Loop                NaN       NaN       NaN         NaN         NaN   \n",
       "Sunrise_Sunset        -0.001458 -0.053939 -0.011474   -0.013694   -0.009480   \n",
       "duration_in_mins       0.001599  0.001104 -0.001967   -0.001361    0.000248   \n",
       "weekday                0.005542  0.008897 -0.002284   -0.002678    0.011545   \n",
       "Clear                 -0.042342 -0.057435 -0.057292   -0.033952   -0.014178   \n",
       "Partly Cloudy         -0.024690 -0.033491 -0.033407   -0.019797   -0.008267   \n",
       "Haze                  -0.013956 -0.018931 -0.018884   -0.011191   -0.004673   \n",
       "Mostly Cloudy         -0.025435 -0.034501 -0.034415   -0.020395   -0.008516   \n",
       "Overcast              -0.018416 -0.024980 -0.024918   -0.014767   -0.006166   \n",
       "Scattered Clouds      -0.013589 -0.018433 -0.018387   -0.010896   -0.004550   \n",
       "Light Rain            -0.015012 -0.020363 -0.020312   -0.012037   -0.005026   \n",
       "Mist                  -0.001708 -0.002317 -0.002311   -0.001370   -0.000572   \n",
       "Smoke                  1.000000 -0.008495 -0.008474   -0.005022   -0.002097   \n",
       "Fog                   -0.008495  1.000000 -0.011494   -0.006811   -0.002844   \n",
       "Rain                  -0.008474 -0.011494  1.000000   -0.006795   -0.002837   \n",
       "Heavy Rain            -0.005022 -0.006811 -0.006795    1.000000   -0.001681   \n",
       "Light Snow            -0.002097 -0.002844 -0.002837   -0.001681    1.000000   \n",
       "Fair                  -0.056395 -0.076497 -0.076307   -0.045220   -0.018883   \n",
       "Cloudy                -0.021672 -0.029397 -0.029324   -0.017378   -0.007257   \n",
       "Fair / Windy          -0.004896 -0.006641 -0.006625   -0.003926   -0.001639   \n",
       "Mostly Cloudy / Windy -0.001952 -0.002648 -0.002641   -0.001565   -0.000654   \n",
       "Partly Cloudy / Windy -0.002253 -0.003056 -0.003048   -0.001807   -0.000754   \n",
       "\n",
       "                           Fair    Cloudy  Fair / Windy  \\\n",
       "Severity              -0.186054 -0.053115     -0.017941   \n",
       "Start_Time            -0.018134 -0.075292      0.008707   \n",
       "Start_Lat              0.002303  0.012543      0.023987   \n",
       "Start_Lng              0.028818 -0.014607     -0.022230   \n",
       "Temperature(F)         0.030390 -0.135514      0.010715   \n",
       "Humidity(%)           -0.212975  0.198167     -0.059239   \n",
       "Visibility(mi)         0.164937 -0.023802      0.023792   \n",
       "Wind_Direction         0.138785  0.009698     -0.025567   \n",
       "Wind_Speed(mph)       -0.181041 -0.081954      0.188324   \n",
       "Amenity               -0.003988  0.000181      0.000136   \n",
       "Bump                   0.004453  0.003136      0.000199   \n",
       "Crossing               0.007022  0.003769     -0.000080   \n",
       "Give_Way               0.001999  0.002992     -0.000556   \n",
       "Junction              -0.022185 -0.002535     -0.000091   \n",
       "No_Exit                0.002293 -0.000826     -0.001464   \n",
       "Railway               -0.003469 -0.000073     -0.001323   \n",
       "Roundabout            -0.001684 -0.000261     -0.000289   \n",
       "Station               -0.008976 -0.001250     -0.005672   \n",
       "Stop                   0.013586  0.005330      0.002422   \n",
       "Traffic_Calming        0.002475  0.003548     -0.000104   \n",
       "Traffic_Signal         0.003739  0.000387      0.000119   \n",
       "Turning_Loop                NaN       NaN           NaN   \n",
       "Sunrise_Sunset        -0.100973 -0.073864      0.020978   \n",
       "duration_in_mins       0.004083 -0.003727     -0.000514   \n",
       "weekday                0.032307  0.037465      0.006032   \n",
       "Clear                 -0.381300 -0.146530     -0.033104   \n",
       "Partly Cloudy         -0.222338 -0.085442     -0.019303   \n",
       "Haze                  -0.125682 -0.048298     -0.010912   \n",
       "Mostly Cloudy         -0.229046 -0.088020     -0.019886   \n",
       "Overcast              -0.165838 -0.063730     -0.014398   \n",
       "Scattered Clouds      -0.122370 -0.047026     -0.010624   \n",
       "Light Rain            -0.135185 -0.051950     -0.011737   \n",
       "Mist                  -0.015383 -0.005911     -0.001336   \n",
       "Smoke                 -0.056395 -0.021672     -0.004896   \n",
       "Fog                   -0.076497 -0.029397     -0.006641   \n",
       "Rain                  -0.076307 -0.029324     -0.006625   \n",
       "Heavy Rain            -0.045220 -0.017378     -0.003926   \n",
       "Light Snow            -0.018883 -0.007257     -0.001639   \n",
       "Fair                   1.000000 -0.195162     -0.044091   \n",
       "Cloudy                -0.195162  1.000000     -0.016944   \n",
       "Fair / Windy          -0.044091 -0.016944      1.000000   \n",
       "Mostly Cloudy / Windy -0.017577 -0.006755     -0.001526   \n",
       "Partly Cloudy / Windy -0.020288 -0.007797     -0.001761   \n",
       "\n",
       "                       Mostly Cloudy / Windy  Partly Cloudy / Windy  \n",
       "Severity                           -0.003714              -0.007506  \n",
       "Start_Time                          0.006020               0.005803  \n",
       "Start_Lat                           0.014379               0.010717  \n",
       "Start_Lng                          -0.015729              -0.011184  \n",
       "Temperature(F)                     -0.002161              -0.001091  \n",
       "Humidity(%)                        -0.007969              -0.017351  \n",
       "Visibility(mi)                      0.007653               0.014599  \n",
       "Wind_Direction                     -0.007217              -0.011665  \n",
       "Wind_Speed(mph)                     0.073409               0.086322  \n",
       "Amenity                             0.000564              -0.000072  \n",
       "Bump                               -0.000403              -0.000465  \n",
       "Crossing                            0.000718              -0.000489  \n",
       "Give_Way                           -0.000744               0.000561  \n",
       "Junction                            0.005753              -0.001696  \n",
       "No_Exit                            -0.000584              -0.000674  \n",
       "Railway                            -0.000598              -0.000828  \n",
       "Roundabout                         -0.000115              -0.000133  \n",
       "Station                             0.000123              -0.000889  \n",
       "Stop                                0.000673               0.000101  \n",
       "Traffic_Calming                    -0.000462              -0.000533  \n",
       "Traffic_Signal                     -0.000587              -0.000722  \n",
       "Turning_Loop                             NaN                    NaN  \n",
       "Sunrise_Sunset                      0.009660               0.008841  \n",
       "duration_in_mins                   -0.000726               0.000196  \n",
       "weekday                             0.005253               0.000812  \n",
       "Clear                              -0.013197              -0.015233  \n",
       "Partly Cloudy                      -0.007695              -0.008882  \n",
       "Haze                               -0.004350              -0.005021  \n",
       "Mostly Cloudy                      -0.007928              -0.009150  \n",
       "Overcast                           -0.005740              -0.006625  \n",
       "Scattered Clouds                   -0.004235              -0.004889  \n",
       "Light Rain                         -0.004679              -0.005401  \n",
       "Mist                               -0.000532              -0.000615  \n",
       "Smoke                              -0.001952              -0.002253  \n",
       "Fog                                -0.002648              -0.003056  \n",
       "Rain                               -0.002641              -0.003048  \n",
       "Heavy Rain                         -0.001565              -0.001807  \n",
       "Light Snow                         -0.000654              -0.000754  \n",
       "Fair                               -0.017577              -0.020288  \n",
       "Cloudy                             -0.006755              -0.007797  \n",
       "Fair / Windy                       -0.001526              -0.001761  \n",
       "Mostly Cloudy / Windy               1.000000              -0.000702  \n",
       "Partly Cloudy / Windy              -0.000702               1.000000  \n",
       "\n",
       "[43 rows x 43 columns]"
      ]
     },
     "execution_count": 37,
     "metadata": {},
     "output_type": "execute_result"
    }
   ],
   "source": [
    "df.corr()"
   ]
  },
  {
   "cell_type": "code",
   "execution_count": 38,
   "id": "ecc6ba97",
   "metadata": {
    "scrolled": false
   },
   "outputs": [],
   "source": [
    "# Features that are highly correlated with other features\n",
    "df.drop(['End_Time', 'Weather_Timestamp', 'Start_Lng', 'Turning_Loop'], axis=1, inplace=True)"
   ]
  },
  {
   "cell_type": "code",
   "execution_count": 39,
   "id": "1dd45e21",
   "metadata": {},
   "outputs": [],
   "source": [
    "# Weather conditions is redundant since temperature, precipitation, etc. capture it\n",
    "df.drop(weather_conditions, axis=1, inplace=True)"
   ]
  },
  {
   "cell_type": "markdown",
   "id": "2a859cf3",
   "metadata": {},
   "source": [
    "### Drop outliers (collisions lasting longer than 360 minutes) in duration of collision "
   ]
  },
  {
   "cell_type": "code",
   "execution_count": 40,
   "id": "662fb545",
   "metadata": {
    "scrolled": true
   },
   "outputs": [
    {
     "data": {
      "text/plain": [
       "array([[<AxesSubplot:title={'center':'duration_in_mins'}>]], dtype=object)"
      ]
     },
     "execution_count": 40,
     "metadata": {},
     "output_type": "execute_result"
    },
    {
     "data": {
      "image/png": "[encoded data removed]",
      "text/plain": [
       "<Figure size 432x288 with 1 Axes>"
      ]
     },
     "metadata": {
      "needs_background": "light"
     },
     "output_type": "display_data"
    }
   ],
   "source": [
    "pd.DataFrame.hist(df, column=['duration_in_mins'], log=True)"
   ]
  },
  {
   "cell_type": "code",
   "execution_count": 41,
   "id": "d1add81a",
   "metadata": {
    "scrolled": true
   },
   "outputs": [
    {
     "name": "stdout",
     "output_type": "stream",
     "text": [
      "Size after drop 807565\n"
     ]
    }
   ],
   "source": [
    "df = df[df['duration_in_mins'] <= 360]\n",
    "print(f'Size after drop {df.shape[0]}')"
   ]
  },
  {
   "cell_type": "code",
   "execution_count": 42,
   "id": "b25f3009",
   "metadata": {
    "scrolled": true
   },
   "outputs": [
    {
     "data": {
      "text/plain": [
       "array([[<AxesSubplot:title={'center':'duration_in_mins'}>]], dtype=object)"
      ]
     },
     "execution_count": 42,
     "metadata": {},
     "output_type": "execute_result"
    },
    {
     "data": {
      "image/png": "[encoded data removed]",
      "text/plain": [
       "<Figure size 432x288 with 1 Axes>"
      ]
     },
     "metadata": {
      "needs_background": "light"
     },
     "output_type": "display_data"
    }
   ],
   "source": [
    "pd.DataFrame.hist(df, column=['duration_in_mins'], log=True)"
   ]
  },
  {
   "cell_type": "markdown",
   "id": "liquid-nevada",
   "metadata": {},
   "source": [
    "# Jackson Feature selection"
   ]
  },
  {
   "cell_type": "markdown",
   "id": "attended-edition",
   "metadata": {},
   "source": [
    "## Univariate Feature Selection\n",
    "\n",
    "Using selectKbest"
   ]
  },
  {
   "cell_type": "code",
   "execution_count": 44,
   "id": "funded-panic",
   "metadata": {},
   "outputs": [],
   "source": [
    "from numpy import set_printoptions\n",
    "from sklearn.feature_selection import SelectKBest\n",
    "from sklearn.feature_selection import f_classif\n",
    "#from sklearn.feature_selection import chi2\n",
    "import numpy as np"
   ]
  },
  {
   "cell_type": "code",
   "execution_count": 45,
   "id": "straight-christmas",
   "metadata": {},
   "outputs": [],
   "source": [
    "X_kbest = df.drop(['duration_in_mins'], axis=1)\n",
    "Y_kbest = df['duration_in_mins']\n",
    "X_kbest = np.asarray(X_kbest.values)\n",
    "Y_kbest = np.asarray(Y_kbest.values)\n",
    "test = SelectKBest(score_func=f_classif, k=10) #can change k to choose how many features to be selected\n",
    "fit = test.fit(X_kbest, Y_kbest)\n",
    "set_printoptions(precision=3)\n",
    "features = fit.transform(X_kbest)"
   ]
  },
  {
   "cell_type": "markdown",
   "id": "multiple-coach",
   "metadata": {},
   "source": [
    "## Plotting the scores for SelectKBest"
   ]
  },
  {
   "cell_type": "code",
   "execution_count": 46,
   "id": "western-essex",
   "metadata": {},
   "outputs": [
    {
     "name": "stdout",
     "output_type": "stream",
     "text": [
      "2.6697748337993326\n"
     ]
    },
    {
     "data": {
      "image/png": "[encoded data removed]",
      "text/plain": [
       "<Figure size 432x288 with 1 Axes>"
      ]
     },
     "metadata": {
      "needs_background": "light"
     },
     "output_type": "display_data"
    }
   ],
   "source": [
    "import matplotlib.pyplot as plt\n",
    "X_indices = np.arange(X_kbest.shape[-1])\n",
    "ax = plt.bar(X_indices, fit.scores_, width=.2)\n",
    "avg = np.average(fit.scores_)\n",
    "print(avg)"
   ]
  },
  {
   "cell_type": "markdown",
   "id": "spectacular-rating",
   "metadata": {},
   "source": [
    "## Adds the best features to a list called new_features"
   ]
  },
  {
   "cell_type": "code",
   "execution_count": 47,
   "id": "golden-heading",
   "metadata": {},
   "outputs": [
    {
     "data": {
      "text/plain": [
       "['Severity',\n",
       " 'Start_Time',\n",
       " 'Start_Lat',\n",
       " 'Temperature(F)',\n",
       " 'Humidity(%)',\n",
       " 'Visibility(mi)',\n",
       " 'Wind_Direction',\n",
       " 'Wind_Speed(mph)',\n",
       " 'Sunrise_Sunset',\n",
       " 'weekday']"
      ]
     },
     "execution_count": 47,
     "metadata": {},
     "output_type": "execute_result"
    }
   ],
   "source": [
    "feature_names = list(df.drop(['duration_in_mins'], axis=1).columns.values)\n",
    "mask = test.get_support() #list of booleans\n",
    "new_features = [] # The list of your K best features\n",
    "\n",
    "for bool, feature in zip(mask, feature_names):\n",
    "    if bool:\n",
    "        new_features.append(feature)\n",
    "new_features"
   ]
  },
  {
   "cell_type": "code",
   "execution_count": 48,
   "id": "cosmetic-fields",
   "metadata": {},
   "outputs": [
    {
     "name": "stderr",
     "output_type": "stream",
     "text": [
      "<ipython-input-48-cbefef58c86c>:3: SettingWithCopyWarning: \n",
      "A value is trying to be set on a copy of a slice from a DataFrame.\n",
      "Try using .loc[row_indexer,col_indexer] = value instead\n",
      "\n",
      "See the caveats in the documentation: https://pandas.pydata.org/pandas-docs/stable/user_guide/indexing.html#returning-a-view-versus-a-copy\n",
      "  univariate_df[\"duration_in_mins\"] = duration_in_mins\n"
     ]
    }
   ],
   "source": [
    "duration_in_mins = df[\"duration_in_mins\"]\n",
    "univariate_df = df[new_features]\n",
    "univariate_df[\"duration_in_mins\"] = duration_in_mins"
   ]
  },
  {
   "cell_type": "markdown",
   "id": "16247dd9",
   "metadata": {},
   "source": [
    "### One Hot Encode weekday, wind direction, and severity"
   ]
  },
  {
   "cell_type": "code",
   "execution_count": 49,
   "id": "0426216a",
   "metadata": {},
   "outputs": [],
   "source": [
    "from sklearn.preprocessing import OneHotEncoder\n",
    "\n",
    "OHE = OneHotEncoder()\n",
    "OHE_features = OHE.fit_transform(df[['weekday', 'Wind_Direction', 'Severity']])"
   ]
  },
  {
   "cell_type": "code",
   "execution_count": 50,
   "id": "0a73a21f",
   "metadata": {},
   "outputs": [],
   "source": [
    "OHE_features_df = pd.DataFrame.sparse.from_spmatrix(OHE_features, columns=OHE.get_feature_names())"
   ]
  },
  {
   "cell_type": "code",
   "execution_count": 51,
   "id": "60156a31",
   "metadata": {},
   "outputs": [],
   "source": [
    "df.drop(['weekday', 'Wind_Direction', 'Severity'], inplace=True, axis=1)\n",
    "df = pd.concat([df.reset_index(drop=True), OHE_features_df.reset_index(drop=True)], axis=1)"
   ]
  },
  {
   "cell_type": "markdown",
   "id": "9d58ff5d",
   "metadata": {},
   "source": [
    "### Standard Scaler on continuous inputs"
   ]
  },
  {
   "cell_type": "code",
   "execution_count": 52,
   "id": "f747c49a",
   "metadata": {
    "scrolled": true
   },
   "outputs": [],
   "source": [
    "from sklearn.preprocessing import StandardScaler\n",
    "\n",
    "numerical_features = ['Start_Time', 'Start_Lat', 'Temperature(F)', 'Humidity(%)', \n",
    "                      'Visibility(mi)', 'Wind_Speed(mph)']\n",
    "# Do the scaling and create a DF for the scaled features\n",
    "scaler = StandardScaler()\n",
    "scaled_features = scaler.fit_transform(df[numerical_features])\n",
    "scaled_features_df = pd.DataFrame(scaled_features, columns=numerical_features)\n",
    "\n",
    "# Drop the old columns in X and add the new scaled ones\n",
    "df.drop(numerical_features, inplace=True, axis=1)\n",
    "df = pd.concat([scaled_features_df, df], axis=1)"
   ]
  },
  {
   "cell_type": "markdown",
   "id": "f577c118",
   "metadata": {},
   "source": [
    "### Drop outliers"
   ]
  },
  {
   "cell_type": "code",
   "execution_count": 53,
   "id": "f5940cd7",
   "metadata": {},
   "outputs": [
    {
     "name": "stderr",
     "output_type": "stream",
     "text": [
      "c:\\users\\slephc\\documents\\2021spring\\ecs 171\\lib\\site-packages\\sklearn\\utils\\validation.py:515: UserWarning: pandas.DataFrame with sparse columns found.It will be converted to a dense numpy array.\n",
      "  warnings.warn(\n",
      "c:\\users\\slephc\\documents\\2021spring\\ecs 171\\lib\\site-packages\\sklearn\\utils\\validation.py:515: UserWarning: pandas.DataFrame with sparse columns found.It will be converted to a dense numpy array.\n",
      "  warnings.warn(\n"
     ]
    }
   ],
   "source": [
    "# This takes roughly 3 minutes (on Harjot's machine)\n",
    "from sklearn.ensemble import IsolationForest\n",
    "detector = IsolationForest(n_jobs=-1)\n",
    "outliers = detector.fit_predict(df)"
   ]
  },
  {
   "cell_type": "code",
   "execution_count": 54,
   "id": "43cb74b8",
   "metadata": {
    "scrolled": false
   },
   "outputs": [
    {
     "name": "stdout",
     "output_type": "stream",
     "text": [
      "Size before drop 807565\n",
      "Size after drop 803440\n"
     ]
    }
   ],
   "source": [
    "import numpy as np\n",
    "df.reset_index(drop=True,inplace=True)\n",
    "\n",
    "if_outcome = np.where(outliers == -1)\n",
    "print(f'Size before drop {df.shape[0]}')\n",
    "df.drop(if_outcome[0], inplace=True)\n",
    "print(f'Size after drop {df.shape[0]}')"
   ]
  },
  {
   "cell_type": "markdown",
   "id": "5a534928",
   "metadata": {},
   "source": [
    "### Split DF into X (independent variables) and Y (dependent) variables"
   ]
  },
  {
   "cell_type": "code",
   "execution_count": 55,
   "id": "18cc923d",
   "metadata": {},
   "outputs": [
    {
     "name": "stdout",
     "output_type": "stream",
     "text": [
      "   Start_Time  Start_Lat  Temperature(F)  Humidity(%)  Visibility(mi)  \\\n",
      "0   -0.450709   1.185216        0.796134    -0.444127        0.356423   \n",
      "1   -0.467892   0.965824        0.796134    -0.444127        0.356423   \n",
      "2   -0.416343   1.093907        1.399203    -1.161361        0.356423   \n",
      "3   -0.433526   0.821869        0.864838    -0.444127        0.356423   \n",
      "4   -0.502258   0.781460        0.811401    -0.739458        0.356423   \n",
      "\n",
      "   Wind_Speed(mph)  Amenity  Bump  Crossing  Give_Way  ...  x1_12.0  x1_13.0  \\\n",
      "0        -0.159326        0     0         0         0  ...      0.0      0.0   \n",
      "1        -0.369319        0     0         0         0  ...      0.0      0.0   \n",
      "2        -0.369319        0     0         0         0  ...      0.0      0.0   \n",
      "3        -0.369319        0     0         0         0  ...      0.0      0.0   \n",
      "4        -0.159326        0     0         0         0  ...      0.0      0.0   \n",
      "\n",
      "   x1_14.0  x1_15.0  x1_16.0  x1_17.0  x2_1  x2_2  x2_3  x2_4  \n",
      "0      0.0      0.0      0.0      1.0   0.0   0.0   1.0   0.0  \n",
      "1      0.0      0.0      0.0      0.0   0.0   0.0   1.0   0.0  \n",
      "2      0.0      1.0      0.0      0.0   0.0   1.0   0.0   0.0  \n",
      "3      0.0      0.0      0.0      0.0   0.0   0.0   1.0   0.0  \n",
      "4      0.0      0.0      0.0      1.0   0.0   1.0   0.0   0.0  \n",
      "\n",
      "[5 rows x 49 columns]\n"
     ]
    }
   ],
   "source": [
    "print(df.head())\n",
    "X = df.drop([\"duration_in_mins\"], axis = 1)\n",
    "Y = df['duration_in_mins']"
   ]
  },
  {
   "cell_type": "code",
   "execution_count": 56,
   "id": "f8ee3dd4",
   "metadata": {},
   "outputs": [],
   "source": [
    "X.reset_index(inplace=True, drop=True)"
   ]
  },
  {
   "cell_type": "markdown",
   "id": "027db474",
   "metadata": {},
   "source": [
    "### Create a 70:30 train test split"
   ]
  },
  {
   "cell_type": "code",
   "execution_count": 57,
   "id": "5bf1d75e",
   "metadata": {},
   "outputs": [],
   "source": [
    "from sklearn.model_selection import train_test_split\n",
    "\n",
    "X_train, X_test, Y_train, Y_test = train_test_split(X, Y, test_size=0.3)"
   ]
  },
  {
   "cell_type": "markdown",
   "id": "efe26eca",
   "metadata": {},
   "source": [
    "### Create RandomForestRegressor to get best features"
   ]
  },
  {
   "cell_type": "code",
   "execution_count": 58,
   "id": "961ac1fa",
   "metadata": {},
   "outputs": [
    {
     "name": "stderr",
     "output_type": "stream",
     "text": [
      "c:\\users\\slephc\\documents\\2021spring\\ecs 171\\lib\\site-packages\\sklearn\\utils\\validation.py:515: UserWarning: pandas.DataFrame with sparse columns found.It will be converted to a dense numpy array.\n",
      "  warnings.warn(\n"
     ]
    },
    {
     "data": {
      "text/plain": [
       "RandomForestRegressor(n_estimators=15)"
      ]
     },
     "execution_count": 58,
     "metadata": {},
     "output_type": "execute_result"
    }
   ],
   "source": [
    "from sklearn.ensemble import RandomForestRegressor\n",
    "\n",
    "# This takes roughly 3 minutes on Harjot's machine\n",
    "rfr = RandomForestRegressor(n_estimators=15)\n",
    "rfr.fit(X_train, Y_train)"
   ]
  },
  {
   "cell_type": "code",
   "execution_count": 59,
   "id": "11c6bebf",
   "metadata": {
    "scrolled": true
   },
   "outputs": [
    {
     "data": {
      "text/html": [
       "<div>\n",
       "<style scoped>\n",
       "    .dataframe tbody tr th:only-of-type {\n",
       "        vertical-align: middle;\n",
       "    }\n",
       "\n",
       "    .dataframe tbody tr th {\n",
       "        vertical-align: top;\n",
       "    }\n",
       "\n",
       "    .dataframe thead th {\n",
       "        text-align: right;\n",
       "    }\n",
       "</style>\n",
       "<table border=\"1\" class=\"dataframe\">\n",
       "  <thead>\n",
       "    <tr style=\"text-align: right;\">\n",
       "      <th></th>\n",
       "      <th>0</th>\n",
       "    </tr>\n",
       "  </thead>\n",
       "  <tbody>\n",
       "    <tr>\n",
       "      <th>Start_Lat</th>\n",
       "      <td>0.224919</td>\n",
       "    </tr>\n",
       "    <tr>\n",
       "      <th>Start_Time</th>\n",
       "      <td>0.152082</td>\n",
       "    </tr>\n",
       "    <tr>\n",
       "      <th>Humidity(%)</th>\n",
       "      <td>0.116707</td>\n",
       "    </tr>\n",
       "    <tr>\n",
       "      <th>Temperature(F)</th>\n",
       "      <td>0.116330</td>\n",
       "    </tr>\n",
       "    <tr>\n",
       "      <th>Wind_Speed(mph)</th>\n",
       "      <td>0.094215</td>\n",
       "    </tr>\n",
       "    <tr>\n",
       "      <th>x2_3</th>\n",
       "      <td>0.036526</td>\n",
       "    </tr>\n",
       "    <tr>\n",
       "      <th>Visibility(mi)</th>\n",
       "      <td>0.026436</td>\n",
       "    </tr>\n",
       "    <tr>\n",
       "      <th>x0_2</th>\n",
       "      <td>0.013030</td>\n",
       "    </tr>\n",
       "    <tr>\n",
       "      <th>x0_3</th>\n",
       "      <td>0.012797</td>\n",
       "    </tr>\n",
       "    <tr>\n",
       "      <th>x0_4</th>\n",
       "      <td>0.012497</td>\n",
       "    </tr>\n",
       "    <tr>\n",
       "      <th>x0_1</th>\n",
       "      <td>0.012475</td>\n",
       "    </tr>\n",
       "    <tr>\n",
       "      <th>x0_0</th>\n",
       "      <td>0.011838</td>\n",
       "    </tr>\n",
       "    <tr>\n",
       "      <th>x1_12.0</th>\n",
       "      <td>0.011704</td>\n",
       "    </tr>\n",
       "    <tr>\n",
       "      <th>x1_11.0</th>\n",
       "      <td>0.009428</td>\n",
       "    </tr>\n",
       "    <tr>\n",
       "      <th>x1_13.0</th>\n",
       "      <td>0.009273</td>\n",
       "    </tr>\n",
       "    <tr>\n",
       "      <th>x1_8.0</th>\n",
       "      <td>0.009213</td>\n",
       "    </tr>\n",
       "    <tr>\n",
       "      <th>x1_9.0</th>\n",
       "      <td>0.008407</td>\n",
       "    </tr>\n",
       "    <tr>\n",
       "      <th>x1_10.0</th>\n",
       "      <td>0.008387</td>\n",
       "    </tr>\n",
       "    <tr>\n",
       "      <th>x0_6</th>\n",
       "      <td>0.007972</td>\n",
       "    </tr>\n",
       "    <tr>\n",
       "      <th>x1_14.0</th>\n",
       "      <td>0.007327</td>\n",
       "    </tr>\n",
       "    <tr>\n",
       "      <th>x0_5</th>\n",
       "      <td>0.007286</td>\n",
       "    </tr>\n",
       "    <tr>\n",
       "      <th>Junction</th>\n",
       "      <td>0.006537</td>\n",
       "    </tr>\n",
       "    <tr>\n",
       "      <th>x1_7.0</th>\n",
       "      <td>0.006296</td>\n",
       "    </tr>\n",
       "    <tr>\n",
       "      <th>x1_17.0</th>\n",
       "      <td>0.006178</td>\n",
       "    </tr>\n",
       "    <tr>\n",
       "      <th>Sunrise_Sunset</th>\n",
       "      <td>0.006083</td>\n",
       "    </tr>\n",
       "    <tr>\n",
       "      <th>x1_15.0</th>\n",
       "      <td>0.006065</td>\n",
       "    </tr>\n",
       "    <tr>\n",
       "      <th>x1_6.0</th>\n",
       "      <td>0.005718</td>\n",
       "    </tr>\n",
       "    <tr>\n",
       "      <th>x1_0.0</th>\n",
       "      <td>0.005485</td>\n",
       "    </tr>\n",
       "    <tr>\n",
       "      <th>x1_5.0</th>\n",
       "      <td>0.005118</td>\n",
       "    </tr>\n",
       "    <tr>\n",
       "      <th>x1_4.0</th>\n",
       "      <td>0.005034</td>\n",
       "    </tr>\n",
       "    <tr>\n",
       "      <th>x2_1</th>\n",
       "      <td>0.004527</td>\n",
       "    </tr>\n",
       "    <tr>\n",
       "      <th>Stop</th>\n",
       "      <td>0.004057</td>\n",
       "    </tr>\n",
       "    <tr>\n",
       "      <th>Traffic_Signal</th>\n",
       "      <td>0.003753</td>\n",
       "    </tr>\n",
       "    <tr>\n",
       "      <th>x2_4</th>\n",
       "      <td>0.003702</td>\n",
       "    </tr>\n",
       "    <tr>\n",
       "      <th>x2_2</th>\n",
       "      <td>0.003502</td>\n",
       "    </tr>\n",
       "    <tr>\n",
       "      <th>x1_3.0</th>\n",
       "      <td>0.003500</td>\n",
       "    </tr>\n",
       "    <tr>\n",
       "      <th>x1_1.0</th>\n",
       "      <td>0.003104</td>\n",
       "    </tr>\n",
       "    <tr>\n",
       "      <th>x1_2.0</th>\n",
       "      <td>0.002963</td>\n",
       "    </tr>\n",
       "    <tr>\n",
       "      <th>Crossing</th>\n",
       "      <td>0.002915</td>\n",
       "    </tr>\n",
       "    <tr>\n",
       "      <th>Station</th>\n",
       "      <td>0.002471</td>\n",
       "    </tr>\n",
       "    <tr>\n",
       "      <th>Railway</th>\n",
       "      <td>0.001503</td>\n",
       "    </tr>\n",
       "    <tr>\n",
       "      <th>Amenity</th>\n",
       "      <td>0.001170</td>\n",
       "    </tr>\n",
       "    <tr>\n",
       "      <th>x1_16.0</th>\n",
       "      <td>0.000999</td>\n",
       "    </tr>\n",
       "    <tr>\n",
       "      <th>No_Exit</th>\n",
       "      <td>0.000256</td>\n",
       "    </tr>\n",
       "    <tr>\n",
       "      <th>Give_Way</th>\n",
       "      <td>0.000169</td>\n",
       "    </tr>\n",
       "    <tr>\n",
       "      <th>Traffic_Calming</th>\n",
       "      <td>0.000023</td>\n",
       "    </tr>\n",
       "    <tr>\n",
       "      <th>Bump</th>\n",
       "      <td>0.000016</td>\n",
       "    </tr>\n",
       "    <tr>\n",
       "      <th>Roundabout</th>\n",
       "      <td>0.000006</td>\n",
       "    </tr>\n",
       "  </tbody>\n",
       "</table>\n",
       "</div>"
      ],
      "text/plain": [
       "                        0\n",
       "Start_Lat        0.224919\n",
       "Start_Time       0.152082\n",
       "Humidity(%)      0.116707\n",
       "Temperature(F)   0.116330\n",
       "Wind_Speed(mph)  0.094215\n",
       "x2_3             0.036526\n",
       "Visibility(mi)   0.026436\n",
       "x0_2             0.013030\n",
       "x0_3             0.012797\n",
       "x0_4             0.012497\n",
       "x0_1             0.012475\n",
       "x0_0             0.011838\n",
       "x1_12.0          0.011704\n",
       "x1_11.0          0.009428\n",
       "x1_13.0          0.009273\n",
       "x1_8.0           0.009213\n",
       "x1_9.0           0.008407\n",
       "x1_10.0          0.008387\n",
       "x0_6             0.007972\n",
       "x1_14.0          0.007327\n",
       "x0_5             0.007286\n",
       "Junction         0.006537\n",
       "x1_7.0           0.006296\n",
       "x1_17.0          0.006178\n",
       "Sunrise_Sunset   0.006083\n",
       "x1_15.0          0.006065\n",
       "x1_6.0           0.005718\n",
       "x1_0.0           0.005485\n",
       "x1_5.0           0.005118\n",
       "x1_4.0           0.005034\n",
       "x2_1             0.004527\n",
       "Stop             0.004057\n",
       "Traffic_Signal   0.003753\n",
       "x2_4             0.003702\n",
       "x2_2             0.003502\n",
       "x1_3.0           0.003500\n",
       "x1_1.0           0.003104\n",
       "x1_2.0           0.002963\n",
       "Crossing         0.002915\n",
       "Station          0.002471\n",
       "Railway          0.001503\n",
       "Amenity          0.001170\n",
       "x1_16.0          0.000999\n",
       "No_Exit          0.000256\n",
       "Give_Way         0.000169\n",
       "Traffic_Calming  0.000023\n",
       "Bump             0.000016\n",
       "Roundabout       0.000006"
      ]
     },
     "execution_count": 59,
     "metadata": {},
     "output_type": "execute_result"
    }
   ],
   "source": [
    "# Get feature importance DF\n",
    "pd.DataFrame(rfr.feature_importances_, index=X_train.columns).sort_values(by=[0], ascending=False)"
   ]
  },
  {
   "cell_type": "code",
   "execution_count": 65,
   "id": "3531e563",
   "metadata": {},
   "outputs": [],
   "source": [
    "# Extract the five best features\n",
    "top_5 = ['Start_Lat', 'Start_Time', 'Humidity(%)', 'Temperature(F)', 'Wind_Speed(mph)']\n",
    "X = df[top_5]"
   ]
  },
  {
   "cell_type": "code",
   "execution_count": 66,
   "id": "thousand-detective",
   "metadata": {},
   "outputs": [],
   "source": [
    "# intersection of jackson and harjot's features match!!"
   ]
  },
  {
   "cell_type": "markdown",
   "id": "5484bbbe",
   "metadata": {},
   "source": [
    "### Recreate the 70:30 train test split"
   ]
  },
  {
   "cell_type": "code",
   "execution_count": 67,
   "id": "0056762e",
   "metadata": {},
   "outputs": [],
   "source": [
    "X_train, X_test, Y_train, Y_test = train_test_split(X, Y, test_size=0.3)"
   ]
  },
  {
   "cell_type": "markdown",
   "id": "da4f498b",
   "metadata": {},
   "source": [
    "### Create Keras model"
   ]
  },
  {
   "cell_type": "code",
   "execution_count": 68,
   "id": "e36e463a",
   "metadata": {},
   "outputs": [],
   "source": [
    "import tensorflow as tf\n",
    "from tensorflow import keras\n",
    "from tensorflow.keras import layers\n",
    "\n",
    "model = keras.Sequential()\n",
    "model.add(layers.Dense(16, input_dim=X_train.shape[1], activation='relu'))\n",
    "model.add(layers.Dense(16, activation='relu'))\n",
    "# model.add(layers.Dropout(0.5)) dropout layer prevents overfitting but the model doesnt overfit to begin with\n",
    "model.add(layers.Dense(16, activation='relu'))\n",
    "model.add(layers.Dense(16, activation='relu'))\n",
    "model.add(layers.Dense(1))"
   ]
  },
  {
   "cell_type": "code",
   "execution_count": null,
   "id": "6fdc83b6",
   "metadata": {},
   "outputs": [],
   "source": [
    "# from tensorflow.keras.optimizers import Adam\n",
    "# opt = Adam(lr=0.1)\n",
    "model.compile(loss='mse', optimizer='adam', metrics=['mse'])"
   ]
  },
  {
   "cell_type": "code",
   "execution_count": null,
   "id": "607573b5",
   "metadata": {},
   "outputs": [],
   "source": [
    "# DONT RUN ABOVE CELLS UNLESS YOU'RE CREATING A NEW MODEL (e.g: adding layers, neurons, etc.)\n",
    "# Load the already trained weights\n",
    "model = keras.models.load_model('accidents_model')"
   ]
  },
  {
   "cell_type": "code",
   "execution_count": null,
   "id": "d53a2a99",
   "metadata": {
    "scrolled": false
   },
   "outputs": [],
   "source": [
    "model.fit(X_train, Y_train, epochs=50, batch_size=16, validation_split=0.2, verbose=1)"
   ]
  },
  {
   "cell_type": "code",
   "execution_count": null,
   "id": "59bab10f",
   "metadata": {},
   "outputs": [],
   "source": [
    "# save the weights for the model\n",
    "model.save('accidents_model')"
   ]
  },
  {
   "cell_type": "code",
   "execution_count": null,
   "id": "fd6b324a",
   "metadata": {
    "scrolled": true
   },
   "outputs": [],
   "source": [
    "model.evaluate(X_test, Y_test)"
   ]
  },
  {
   "cell_type": "code",
   "execution_count": null,
   "id": "0ad20f85",
   "metadata": {
    "scrolled": false
   },
   "outputs": [],
   "source": [
    "for i in range(len(X_test)):\n",
    "    row = np.array(X_test.iloc[i,:]).reshape(1,-1)\n",
    "    predicted = model.predict(row)\n",
    "    print(f'Predicted: {predicted}, Actual: {Y_test.iloc[i]}, Diff {predicted-Y_test.iloc[i]}')"
   ]
  },
  {
   "cell_type": "markdown",
   "id": "0715e7fc",
   "metadata": {},
   "source": [
    "## Model creation"
   ]
  },
  {
   "cell_type": "code",
   "execution_count": null,
   "id": "received-future",
   "metadata": {},
   "outputs": [],
   "source": [
    "# linear regression model\n",
    "from sklearn import linear_model\n",
    "\n",
    "# pick the indp columns\n",
    "columnNames = ['Start_Time', 'Start_Lat', 'Start_Lng', 'Temperature(F)', 'Visibility(mi)', 'Wind_Speed(mph)', 'Bump', 'Junction', 'No_Exit', 'Railway', 'Roundabout', 'Station', 'Stop', 'Traffic_Signal', 'Turning_Loop', 'weekday', 'Overcast', 'Light Rain', 'Fair', 'Cloudy']\n",
    "indpFeatures = df[columnNames]\n",
    "depFeatures = df[\"duration_in_mins\"]\n",
    "\n",
    "# split the data into training and testing\n",
    "from sklearn.model_selection import train_test_split\n",
    "x_train,x_test,y_train,y_test = train_test_split(indpFeatures,depFeatures,test_size=0.3)\n",
    "\n",
    "# make the linear model with sklearn\n",
    "linearModel = linear_model.LinearRegression()\n",
    "linearModel.fit(x_train, y_train)\n",
    "\n",
    "# test the model\n",
    "from sklearn.metrics import mean_squared_error\n",
    "\n",
    "y_pred = linearModel.predict(np.array(x_test))\n",
    "\n",
    "mse = mean_squared_error(y_test, y_pred, squared=False)\n",
    "\n",
    "print(\"mse: \", mse)"
   ]
  },
  {
   "cell_type": "code",
   "execution_count": null,
   "id": "add43d1e",
   "metadata": {},
   "outputs": [],
   "source": [
    "# MLP = multilayer layer perceptron = 3\n",
    "from sklearn.neural_network import MLPClassifier\n",
    "# split the data by 70:30\n",
    "x_train2, x_test2, y_train2, y_test2 = train_test_split(indpFeatures, depFeatures, train_size=.7)\n",
    "# extract mean variance\n",
    "y_train2 = y_train2.astype(int)\n",
    "# use mini-batch for NN\n",
    "sklearn_nn = MLPClassifier(hidden_layer_sizes = (4,4,4), activation = \"logistic\", solver=\"adam\", batch_size =50, learning_rate_init=.005).fit(x_train2, y_train2)\n",
    "y_pred = sklearn_nn.predict(x_test2)\n",
    "\n",
    "mse = mean_squared_error(y_test2, y_pred, squared=False)\n",
    "\n",
    "print(\"mse: \", mse)"
   ]
  },
  {
   "cell_type": "code",
   "execution_count": null,
   "id": "20c1f3b9",
   "metadata": {},
   "outputs": [],
   "source": [
    "# tasks 1: april 28th (cell 8)\n",
    "# taks 2-3: april 29th (cell 9-10)\n",
    "# extend feature selection: april 30th (cell 21)\n",
    "# shorten model creation: may 3rd (cell 22)"
   ]
  }
 ],
 "metadata": {
  "kernelspec": {
   "display_name": "Python 3",
   "language": "python",
   "name": "python3"
  },
  "language_info": {
   "codemirror_mode": {
    "name": "ipython",
    "version": 3
   },
   "file_extension": ".py",
   "mimetype": "text/x-python",
   "name": "python",
   "nbconvert_exporter": "python",
   "pygments_lexer": "ipython3",
   "version": "3.8.6"
  }
 },
 "nbformat": 4,
 "nbformat_minor": 5
}
